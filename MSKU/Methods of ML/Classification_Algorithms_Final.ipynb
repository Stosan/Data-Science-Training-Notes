{
 "cells": [
  {
   "cell_type": "markdown",
   "metadata": {},
   "source": [
    "## Size verilen veri seti üzerinden KNN, Destek Vektör Makineleri, Karar ağaçları ve Ensemble metotları kullanarak bir bankanın hangi müşteriye kredi kartı vereceğine hangi müşterilere vermeyeceğine karar veren bir sınıflandırma modeli oluşturunuz. Sonuçları karşılaştırarak hangi modelin tahmin performansının daha iyi olduğunu belirtiniz."
   ]
  },
  {
   "cell_type": "code",
   "execution_count": 2,
   "metadata": {},
   "outputs": [],
   "source": [
    "import pandas as pd\n",
    "import numpy as np\n",
    "import seaborn as sns\n",
    "import matplotlib.pyplot as plt"
   ]
  },
  {
   "cell_type": "code",
   "execution_count": 3,
   "metadata": {},
   "outputs": [],
   "source": [
    "df = pd.read_excel('KrediKartıVerileri.xlsx', index_col=0)"
   ]
  },
  {
   "cell_type": "markdown",
   "metadata": {},
   "source": [
    "### Modellemeden önce veri setimizi inceliyoruz."
   ]
  },
  {
   "cell_type": "code",
   "execution_count": 4,
   "metadata": {},
   "outputs": [
    {
     "data": {
      "text/html": [
       "<div>\n",
       "<style scoped>\n",
       "    .dataframe tbody tr th:only-of-type {\n",
       "        vertical-align: middle;\n",
       "    }\n",
       "\n",
       "    .dataframe tbody tr th {\n",
       "        vertical-align: top;\n",
       "    }\n",
       "\n",
       "    .dataframe thead th {\n",
       "        text-align: right;\n",
       "    }\n",
       "</style>\n",
       "<table border=\"1\" class=\"dataframe\">\n",
       "  <thead>\n",
       "    <tr style=\"text-align: right;\">\n",
       "      <th></th>\n",
       "      <th>Kart</th>\n",
       "      <th>Rapor</th>\n",
       "      <th>Yaş</th>\n",
       "      <th>Gelir</th>\n",
       "      <th>Pay</th>\n",
       "      <th>Harcama</th>\n",
       "      <th>Malik</th>\n",
       "      <th>İşDurumu</th>\n",
       "      <th>Bağımlılık</th>\n",
       "      <th>İkametSüresi</th>\n",
       "      <th>AnaKart</th>\n",
       "      <th>AktifKart</th>\n",
       "    </tr>\n",
       "  </thead>\n",
       "  <tbody>\n",
       "    <tr>\n",
       "      <th>1</th>\n",
       "      <td>evet</td>\n",
       "      <td>0</td>\n",
       "      <td>37.66667</td>\n",
       "      <td>4.5200</td>\n",
       "      <td>0.033270</td>\n",
       "      <td>124.983300</td>\n",
       "      <td>evet</td>\n",
       "      <td>hayır</td>\n",
       "      <td>3</td>\n",
       "      <td>54</td>\n",
       "      <td>1</td>\n",
       "      <td>12</td>\n",
       "    </tr>\n",
       "    <tr>\n",
       "      <th>2</th>\n",
       "      <td>evet</td>\n",
       "      <td>0</td>\n",
       "      <td>33.25000</td>\n",
       "      <td>2.4200</td>\n",
       "      <td>0.005217</td>\n",
       "      <td>9.854167</td>\n",
       "      <td>hayır</td>\n",
       "      <td>hayır</td>\n",
       "      <td>3</td>\n",
       "      <td>34</td>\n",
       "      <td>1</td>\n",
       "      <td>13</td>\n",
       "    </tr>\n",
       "    <tr>\n",
       "      <th>3</th>\n",
       "      <td>evet</td>\n",
       "      <td>0</td>\n",
       "      <td>33.66667</td>\n",
       "      <td>4.5000</td>\n",
       "      <td>0.004156</td>\n",
       "      <td>15.000000</td>\n",
       "      <td>evet</td>\n",
       "      <td>hayır</td>\n",
       "      <td>4</td>\n",
       "      <td>58</td>\n",
       "      <td>1</td>\n",
       "      <td>5</td>\n",
       "    </tr>\n",
       "    <tr>\n",
       "      <th>4</th>\n",
       "      <td>evet</td>\n",
       "      <td>0</td>\n",
       "      <td>30.50000</td>\n",
       "      <td>2.5400</td>\n",
       "      <td>0.065214</td>\n",
       "      <td>137.869200</td>\n",
       "      <td>hayır</td>\n",
       "      <td>hayır</td>\n",
       "      <td>0</td>\n",
       "      <td>25</td>\n",
       "      <td>1</td>\n",
       "      <td>7</td>\n",
       "    </tr>\n",
       "    <tr>\n",
       "      <th>5</th>\n",
       "      <td>evet</td>\n",
       "      <td>0</td>\n",
       "      <td>32.16667</td>\n",
       "      <td>9.7867</td>\n",
       "      <td>0.067051</td>\n",
       "      <td>546.503300</td>\n",
       "      <td>evet</td>\n",
       "      <td>hayır</td>\n",
       "      <td>2</td>\n",
       "      <td>64</td>\n",
       "      <td>1</td>\n",
       "      <td>5</td>\n",
       "    </tr>\n",
       "    <tr>\n",
       "      <th>...</th>\n",
       "      <td>...</td>\n",
       "      <td>...</td>\n",
       "      <td>...</td>\n",
       "      <td>...</td>\n",
       "      <td>...</td>\n",
       "      <td>...</td>\n",
       "      <td>...</td>\n",
       "      <td>...</td>\n",
       "      <td>...</td>\n",
       "      <td>...</td>\n",
       "      <td>...</td>\n",
       "      <td>...</td>\n",
       "    </tr>\n",
       "    <tr>\n",
       "      <th>1315</th>\n",
       "      <td>evet</td>\n",
       "      <td>0</td>\n",
       "      <td>33.58333</td>\n",
       "      <td>4.5660</td>\n",
       "      <td>0.002146</td>\n",
       "      <td>7.333333</td>\n",
       "      <td>evet</td>\n",
       "      <td>hayır</td>\n",
       "      <td>0</td>\n",
       "      <td>94</td>\n",
       "      <td>1</td>\n",
       "      <td>19</td>\n",
       "    </tr>\n",
       "    <tr>\n",
       "      <th>1316</th>\n",
       "      <td>hayır</td>\n",
       "      <td>5</td>\n",
       "      <td>23.91667</td>\n",
       "      <td>3.1920</td>\n",
       "      <td>0.000376</td>\n",
       "      <td>0.000000</td>\n",
       "      <td>hayır</td>\n",
       "      <td>hayır</td>\n",
       "      <td>3</td>\n",
       "      <td>12</td>\n",
       "      <td>1</td>\n",
       "      <td>5</td>\n",
       "    </tr>\n",
       "    <tr>\n",
       "      <th>1317</th>\n",
       "      <td>evet</td>\n",
       "      <td>0</td>\n",
       "      <td>40.58333</td>\n",
       "      <td>4.6000</td>\n",
       "      <td>0.026513</td>\n",
       "      <td>101.298300</td>\n",
       "      <td>evet</td>\n",
       "      <td>hayır</td>\n",
       "      <td>2</td>\n",
       "      <td>1</td>\n",
       "      <td>1</td>\n",
       "      <td>2</td>\n",
       "    </tr>\n",
       "    <tr>\n",
       "      <th>1318</th>\n",
       "      <td>evet</td>\n",
       "      <td>0</td>\n",
       "      <td>32.83333</td>\n",
       "      <td>3.7000</td>\n",
       "      <td>0.008999</td>\n",
       "      <td>26.996670</td>\n",
       "      <td>hayır</td>\n",
       "      <td>evet</td>\n",
       "      <td>0</td>\n",
       "      <td>60</td>\n",
       "      <td>1</td>\n",
       "      <td>7</td>\n",
       "    </tr>\n",
       "    <tr>\n",
       "      <th>1319</th>\n",
       "      <td>evet</td>\n",
       "      <td>0</td>\n",
       "      <td>48.25000</td>\n",
       "      <td>3.7000</td>\n",
       "      <td>0.111619</td>\n",
       "      <td>344.157500</td>\n",
       "      <td>evet</td>\n",
       "      <td>hayır</td>\n",
       "      <td>2</td>\n",
       "      <td>2</td>\n",
       "      <td>1</td>\n",
       "      <td>0</td>\n",
       "    </tr>\n",
       "  </tbody>\n",
       "</table>\n",
       "<p>1319 rows × 12 columns</p>\n",
       "</div>"
      ],
      "text/plain": [
       "       Kart  Rapor       Yaş   Gelir       Pay     Harcama  Malik İşDurumu  \\\n",
       "1      evet      0  37.66667  4.5200  0.033270  124.983300   evet    hayır   \n",
       "2      evet      0  33.25000  2.4200  0.005217    9.854167  hayır    hayır   \n",
       "3      evet      0  33.66667  4.5000  0.004156   15.000000   evet    hayır   \n",
       "4      evet      0  30.50000  2.5400  0.065214  137.869200  hayır    hayır   \n",
       "5      evet      0  32.16667  9.7867  0.067051  546.503300   evet    hayır   \n",
       "...     ...    ...       ...     ...       ...         ...    ...      ...   \n",
       "1315   evet      0  33.58333  4.5660  0.002146    7.333333   evet    hayır   \n",
       "1316  hayır      5  23.91667  3.1920  0.000376    0.000000  hayır    hayır   \n",
       "1317   evet      0  40.58333  4.6000  0.026513  101.298300   evet    hayır   \n",
       "1318   evet      0  32.83333  3.7000  0.008999   26.996670  hayır     evet   \n",
       "1319   evet      0  48.25000  3.7000  0.111619  344.157500   evet    hayır   \n",
       "\n",
       "      Bağımlılık  İkametSüresi  AnaKart  AktifKart  \n",
       "1              3            54        1         12  \n",
       "2              3            34        1         13  \n",
       "3              4            58        1          5  \n",
       "4              0            25        1          7  \n",
       "5              2            64        1          5  \n",
       "...          ...           ...      ...        ...  \n",
       "1315           0            94        1         19  \n",
       "1316           3            12        1          5  \n",
       "1317           2             1        1          2  \n",
       "1318           0            60        1          7  \n",
       "1319           2             2        1          0  \n",
       "\n",
       "[1319 rows x 12 columns]"
      ]
     },
     "execution_count": 4,
     "metadata": {},
     "output_type": "execute_result"
    }
   ],
   "source": [
    "df"
   ]
  },
  {
   "cell_type": "code",
   "execution_count": 5,
   "metadata": {
    "scrolled": true
   },
   "outputs": [
    {
     "data": {
      "text/plain": [
       "Kart            0\n",
       "Rapor           0\n",
       "Yaş             0\n",
       "Gelir           0\n",
       "Pay             0\n",
       "Harcama         0\n",
       "Malik           0\n",
       "İşDurumu        0\n",
       "Bağımlılık      0\n",
       "İkametSüresi    0\n",
       "AnaKart         0\n",
       "AktifKart       0\n",
       "dtype: int64"
      ]
     },
     "execution_count": 5,
     "metadata": {},
     "output_type": "execute_result"
    }
   ],
   "source": [
    "df.isnull().sum()  # Null değeri bulunmuyor verimizde."
   ]
  },
  {
   "cell_type": "markdown",
   "metadata": {},
   "source": [
    "### Bağımsız değişkenlerimizden 2 tanesi categorical, bu değişkenleri verimizi böldükten sonra numericala dönüştürücez."
   ]
  },
  {
   "cell_type": "code",
   "execution_count": 6,
   "metadata": {},
   "outputs": [
    {
     "name": "stdout",
     "output_type": "stream",
     "text": [
      "<class 'pandas.core.frame.DataFrame'>\n",
      "Int64Index: 1319 entries, 1 to 1319\n",
      "Data columns (total 12 columns):\n",
      " #   Column        Non-Null Count  Dtype  \n",
      "---  ------        --------------  -----  \n",
      " 0   Kart          1319 non-null   object \n",
      " 1   Rapor         1319 non-null   int64  \n",
      " 2   Yaş           1319 non-null   float64\n",
      " 3   Gelir         1319 non-null   float64\n",
      " 4   Pay           1319 non-null   float64\n",
      " 5   Harcama       1319 non-null   float64\n",
      " 6   Malik         1319 non-null   object \n",
      " 7   İşDurumu      1319 non-null   object \n",
      " 8   Bağımlılık    1319 non-null   int64  \n",
      " 9   İkametSüresi  1319 non-null   int64  \n",
      " 10  AnaKart       1319 non-null   int64  \n",
      " 11  AktifKart     1319 non-null   int64  \n",
      "dtypes: float64(4), int64(5), object(3)\n",
      "memory usage: 134.0+ KB\n"
     ]
    }
   ],
   "source": [
    "df.info()    "
   ]
  },
  {
   "cell_type": "markdown",
   "metadata": {},
   "source": [
    "### Imbalanced durumu söz konusu ancak örnek sayısı çok olmadığı için olumsuz bir durum oluşturmayacaktır. Tahmin performansı düşük olması durumunda ele alınabilir."
   ]
  },
  {
   "cell_type": "code",
   "execution_count": 7,
   "metadata": {},
   "outputs": [
    {
     "data": {
      "text/plain": [
       "evet     1023\n",
       "hayır     296\n",
       "Name: Kart, dtype: int64"
      ]
     },
     "execution_count": 7,
     "metadata": {},
     "output_type": "execute_result"
    }
   ],
   "source": [
    "df['Kart'].value_counts()"
   ]
  },
  {
   "cell_type": "markdown",
   "metadata": {},
   "source": [
    "# KNN  (K-Nearest Neighbors)"
   ]
  },
  {
   "cell_type": "markdown",
   "metadata": {},
   "source": [
    "### KNN algoritması benzer şeyler birbirine yakındır mantığını kabul eder. Yani sınıflandırılacak(tahminlenecek) olan veriyi daha önceki verilerle olan yakınlık ilişkisine (en yakın komşularına) göre sınıflandıran bir algoritmadır. En önemli parametresi k parametresidir (aşağıda ne_neighbors olarak geçen). Bir örnekle; A ve B sınıflarımız olsun, k = 3 olarak alırsak, yeni gelen verinin eski verilere olan uzaklıkları ölçülür ve en yakın 3 tanesi belirlenir. Bu en yakın verilerden 2'si A sınıfında ve 1'i B sınıfındadır. Bu durumda algoritma yeni gelen verinin A sınıfında olduğuna karar verir."
   ]
  },
  {
   "cell_type": "markdown",
   "metadata": {},
   "source": [
    "https://machinelearningmastery.com/k-nearest-neighbors-for-machine-learning/"
   ]
  },
  {
   "cell_type": "markdown",
   "metadata": {},
   "source": [
    "https://towardsdatascience.com/machine-learning-basics-with-the-k-nearest-neighbors-algorithm-6a6e71d01761"
   ]
  },
  {
   "cell_type": "markdown",
   "metadata": {},
   "source": [
    "### Verilerimizi y(bağımlı değişken) ve X(bağımsız değişkenler) olarak ayırıyor ve bağımsız değişkenler içinde bulunan categorical verileri numericala dönüştürüyoruz."
   ]
  },
  {
   "cell_type": "code",
   "execution_count": 8,
   "metadata": {},
   "outputs": [],
   "source": [
    "X = df.drop('Kart', axis = 1)\n",
    "y = df['Kart']"
   ]
  },
  {
   "cell_type": "code",
   "execution_count": 9,
   "metadata": {},
   "outputs": [],
   "source": [
    "X = pd.get_dummies(X, drop_first=True)"
   ]
  },
  {
   "cell_type": "code",
   "execution_count": 10,
   "metadata": {},
   "outputs": [],
   "source": [
    "from sklearn.model_selection import train_test_split"
   ]
  },
  {
   "cell_type": "markdown",
   "metadata": {},
   "source": [
    "### Verilerimizi train ve test olarak ayırıyoruz."
   ]
  },
  {
   "cell_type": "code",
   "execution_count": 11,
   "metadata": {},
   "outputs": [],
   "source": [
    "X_train, X_test, y_train, y_test = train_test_split(X, y, test_size=0.25, random_state=42)"
   ]
  },
  {
   "cell_type": "markdown",
   "metadata": {},
   "source": [
    "### Modeli çağırıp ilk olarak n_neighbors parametresini 1 olarak veriyoruz."
   ]
  },
  {
   "cell_type": "code",
   "execution_count": 12,
   "metadata": {},
   "outputs": [],
   "source": [
    "from sklearn.neighbors import KNeighborsClassifier"
   ]
  },
  {
   "cell_type": "code",
   "execution_count": 13,
   "metadata": {},
   "outputs": [],
   "source": [
    "knn = KNeighborsClassifier(n_neighbors=1)"
   ]
  },
  {
   "cell_type": "code",
   "execution_count": 14,
   "metadata": {},
   "outputs": [
    {
     "data": {
      "text/plain": [
       "KNeighborsClassifier(n_neighbors=1)"
      ]
     },
     "execution_count": 14,
     "metadata": {},
     "output_type": "execute_result"
    }
   ],
   "source": [
    "knn.fit(X_train, y_train)"
   ]
  },
  {
   "cell_type": "code",
   "execution_count": 15,
   "metadata": {},
   "outputs": [],
   "source": [
    "y_pred = knn.predict(X_test)"
   ]
  },
  {
   "cell_type": "code",
   "execution_count": 16,
   "metadata": {},
   "outputs": [],
   "source": [
    "from sklearn.metrics import classification_report, confusion_matrix, f1_score"
   ]
  },
  {
   "cell_type": "markdown",
   "metadata": {},
   "source": [
    "### Modelimizin performansına bakıyoruz f1 scorelar 0.96 ve 0.89 olarak çıktı."
   ]
  },
  {
   "cell_type": "code",
   "execution_count": 17,
   "metadata": {},
   "outputs": [
    {
     "name": "stdout",
     "output_type": "stream",
     "text": [
      "              precision    recall  f1-score   support\n",
      "\n",
      "        evet       0.98      0.95      0.96       254\n",
      "       hayır       0.85      0.92      0.89        76\n",
      "\n",
      "    accuracy                           0.95       330\n",
      "   macro avg       0.91      0.94      0.93       330\n",
      "weighted avg       0.95      0.95      0.95       330\n",
      "\n"
     ]
    }
   ],
   "source": [
    "print(classification_report(y_test, y_pred))"
   ]
  },
  {
   "cell_type": "code",
   "execution_count": 18,
   "metadata": {
    "scrolled": true
   },
   "outputs": [
    {
     "name": "stdout",
     "output_type": "stream",
     "text": [
      "[[242  12]\n",
      " [  6  70]]\n"
     ]
    }
   ],
   "source": [
    "print(confusion_matrix(y_test, y_pred))"
   ]
  },
  {
   "cell_type": "markdown",
   "metadata": {},
   "source": [
    "### Gridsearch cross validation kullanarak n_neighbors parametresini optimize ederek en iyi performansı verecek değeri elde ediyoruz."
   ]
  },
  {
   "cell_type": "code",
   "execution_count": 19,
   "metadata": {},
   "outputs": [],
   "source": [
    "from sklearn.model_selection import GridSearchCV"
   ]
  },
  {
   "cell_type": "code",
   "execution_count": 20,
   "metadata": {},
   "outputs": [],
   "source": [
    "knn_params = {'n_neighbors' : np.arange(1, 50)}"
   ]
  },
  {
   "cell_type": "code",
   "execution_count": 21,
   "metadata": {},
   "outputs": [],
   "source": [
    "knn = KNeighborsClassifier()"
   ]
  },
  {
   "cell_type": "code",
   "execution_count": 22,
   "metadata": {},
   "outputs": [],
   "source": [
    "knn_cv_model = GridSearchCV(knn, knn_params, cv = 10).fit(X_train, y_train)"
   ]
  },
  {
   "cell_type": "markdown",
   "metadata": {},
   "source": [
    "### Gridsearch cv sonunda 5 parametresini elde ettik. 1-50 arasındaki tüm değerler denendi 5 en iyi sonuç veren olarak seçildi."
   ]
  },
  {
   "cell_type": "code",
   "execution_count": 23,
   "metadata": {},
   "outputs": [
    {
     "data": {
      "text/plain": [
       "{'n_neighbors': 5}"
      ]
     },
     "execution_count": 23,
     "metadata": {},
     "output_type": "execute_result"
    }
   ],
   "source": [
    "knn_cv_model.best_params_"
   ]
  },
  {
   "cell_type": "code",
   "execution_count": 24,
   "metadata": {},
   "outputs": [],
   "source": [
    "knn_tuned = KNeighborsClassifier(n_neighbors=5).fit(X_train, y_train)"
   ]
  },
  {
   "cell_type": "code",
   "execution_count": 25,
   "metadata": {},
   "outputs": [],
   "source": [
    "y_pred = knn_tuned.predict(X_test)"
   ]
  },
  {
   "cell_type": "markdown",
   "metadata": {},
   "source": [
    "### n_neighbors 5 olarak alındı ve f1 scorelar 0.96 ve 0.89 çıktı. Yukardan farklı olarak precision 1 oldu."
   ]
  },
  {
   "cell_type": "code",
   "execution_count": 26,
   "metadata": {
    "scrolled": true
   },
   "outputs": [
    {
     "name": "stdout",
     "output_type": "stream",
     "text": [
      "              precision    recall  f1-score   support\n",
      "\n",
      "        evet       1.00      0.93      0.96       254\n",
      "       hayır       0.82      0.99      0.89        76\n",
      "\n",
      "    accuracy                           0.95       330\n",
      "   macro avg       0.91      0.96      0.93       330\n",
      "weighted avg       0.95      0.95      0.95       330\n",
      "\n"
     ]
    }
   ],
   "source": [
    "print(classification_report(y_test, y_pred))"
   ]
  },
  {
   "cell_type": "code",
   "execution_count": 27,
   "metadata": {
    "scrolled": true
   },
   "outputs": [
    {
     "name": "stdout",
     "output_type": "stream",
     "text": [
      "[[237  17]\n",
      " [  1  75]]\n"
     ]
    }
   ],
   "source": [
    "print(confusion_matrix(y_test, y_pred))"
   ]
  },
  {
   "cell_type": "markdown",
   "metadata": {},
   "source": [
    "### Diğer modellerle performans karşılaştırması yapabilmek için f1_score'ları (evet ve hayır için ayrı olarak) değişkenlere atıyoruz. (En son grafik üzerinden görebilmek için)"
   ]
  },
  {
   "cell_type": "code",
   "execution_count": 28,
   "metadata": {},
   "outputs": [],
   "source": [
    "knn_f1_hayır = f1_score(y_test, y_pred, pos_label='hayır')"
   ]
  },
  {
   "cell_type": "code",
   "execution_count": 29,
   "metadata": {},
   "outputs": [],
   "source": [
    "knn_f1_evet = f1_score(y_test, y_pred, pos_label='evet')"
   ]
  },
  {
   "cell_type": "markdown",
   "metadata": {},
   "source": [
    "# SVM (Support Vector Machine)"
   ]
  },
  {
   "cell_type": "markdown",
   "metadata": {},
   "source": [
    "### Destek Vektör Makineleri, temel olarak iki sınıfa ait verileri birbirinden en uygun şekilde ayırmak için kullanılır. Bunun için karar sınırları yada diğer bir ifadeyle hiper düzlemler belirlenir. \n",
    "\n",
    "### Elimizde şu anda iki sınıfa ait örnekler bulunmakta, doğrusal olarak dağıldığını varsayarsak; bu durumda veri setini ikiye ayıran bir karar doğrusu oluşturulur ve sınfılandırma yapılır. Aşağıda c parametresi ile gösterilen margin değeri ile karar doğrusunun iki yannda oluşturduğumuz  destek vektörleri ile sınıfların bribirlerinden uzaklıklarını ayarlayabiliriz (soft margin , hard margin). \n",
    "\n",
    "### Elimizdeki verilerin doğrusal olarak dağılmadılarsa (doğrusal olmayan veriler); destek vektör makineleri doğrusal bir düzlem çizemez, doğrusal bir düzlem ile ayrım yapamaz bu yüzden kernel trick (polynomial kernel ve Gaussian RBF) kullanılarak 3. boyutta işlem yapılarak sınıflandırma yapılır. Kısacası, 2 boyutta sınıflandırma mümkün değilse değişimleri boyut arttırarak çözüyormuş gibi yaparak kernel trick kullanılır. 2 boyutta açıklayamadığımız veri setimizi daha fazla boyutta açıklamak için kullanılan Kernel Trick metoduna Polynomial Kernel denir. Her bir noktanın belirli bir noktaya ne kadar benzediğini normal dağılım ile hesaplayan, ona göre sınıflandıran Kernel Trick metoduna RBF Kernel denir."
   ]
  },
  {
   "cell_type": "markdown",
   "metadata": {},
   "source": [
    "https://en.wikipedia.org/wiki/Support-vector_machine"
   ]
  },
  {
   "cell_type": "markdown",
   "metadata": {},
   "source": [
    "https://scikit-learn.org/stable/modules/svm.html"
   ]
  },
  {
   "cell_type": "code",
   "execution_count": 40,
   "metadata": {},
   "outputs": [],
   "source": [
    "X = df.drop('Kart', axis = 1)\n",
    "y = df['Kart']"
   ]
  },
  {
   "cell_type": "code",
   "execution_count": 41,
   "metadata": {},
   "outputs": [],
   "source": [
    "X = pd.get_dummies(X, drop_first=True)"
   ]
  },
  {
   "cell_type": "code",
   "execution_count": 42,
   "metadata": {},
   "outputs": [],
   "source": [
    "X_train, X_test, y_train, y_test = train_test_split(X, y, test_size=0.25, random_state=42)"
   ]
  },
  {
   "cell_type": "code",
   "execution_count": 33,
   "metadata": {},
   "outputs": [],
   "source": [
    "from sklearn.svm import SVC"
   ]
  },
  {
   "cell_type": "markdown",
   "metadata": {},
   "source": [
    "### Modeli çağırıp default parametrelerde (C = 1.0, kernel = RBF, gamma = 'scale') fit ve train ederek tahminlemede bulunuyoruz."
   ]
  },
  {
   "cell_type": "code",
   "execution_count": 34,
   "metadata": {},
   "outputs": [],
   "source": [
    "model = SVC().fit(X_train, y_train)"
   ]
  },
  {
   "cell_type": "code",
   "execution_count": 35,
   "metadata": {},
   "outputs": [],
   "source": [
    "y_pred = model.predict(X_test)"
   ]
  },
  {
   "cell_type": "code",
   "execution_count": 36,
   "metadata": {
    "scrolled": true
   },
   "outputs": [
    {
     "name": "stdout",
     "output_type": "stream",
     "text": [
      "              precision    recall  f1-score   support\n",
      "\n",
      "        evet       1.00      0.89      0.94       254\n",
      "       hayır       0.74      1.00      0.85        76\n",
      "\n",
      "    accuracy                           0.92       330\n",
      "   macro avg       0.87      0.95      0.90       330\n",
      "weighted avg       0.94      0.92      0.92       330\n",
      "\n"
     ]
    }
   ],
   "source": [
    "print(classification_report(y_test, y_pred))"
   ]
  },
  {
   "cell_type": "code",
   "execution_count": 37,
   "metadata": {
    "scrolled": false
   },
   "outputs": [
    {
     "name": "stdout",
     "output_type": "stream",
     "text": [
      "[[227  27]\n",
      " [  0  76]]\n"
     ]
    }
   ],
   "source": [
    "print(confusion_matrix(y_test, y_pred))"
   ]
  },
  {
   "cell_type": "markdown",
   "metadata": {},
   "source": [
    "### Gridsearch cross validation kullanarak C, gamma ve kernel parametrelerimi optimize ederek en iyi performansı verecek değerleri elde ediyoruz."
   ]
  },
  {
   "cell_type": "code",
   "execution_count": 38,
   "metadata": {},
   "outputs": [],
   "source": [
    "param_grid = {'C': [1, 100, 1000], 'gamma': [1,0.1,0.01], 'kernel': ['rbf', 'linear']}"
   ]
  },
  {
   "cell_type": "code",
   "execution_count": 43,
   "metadata": {},
   "outputs": [],
   "source": [
    "model_cv = GridSearchCV(SVC(), param_grid, verbose = 3, refit = True)"
   ]
  },
  {
   "cell_type": "code",
   "execution_count": 44,
   "metadata": {
    "scrolled": true
   },
   "outputs": [
    {
     "name": "stdout",
     "output_type": "stream",
     "text": [
      "Fitting 5 folds for each of 18 candidates, totalling 90 fits\n",
      "[CV 1/5] END ..........C=1, gamma=1, kernel=rbf;, score=0.778 total time=   0.0s\n",
      "[CV 2/5] END ..........C=1, gamma=1, kernel=rbf;, score=0.778 total time=   0.0s\n",
      "[CV 3/5] END ..........C=1, gamma=1, kernel=rbf;, score=0.783 total time=   0.0s\n",
      "[CV 4/5] END ..........C=1, gamma=1, kernel=rbf;, score=0.778 total time=   0.0s\n",
      "[CV 5/5] END ..........C=1, gamma=1, kernel=rbf;, score=0.782 total time=   0.0s\n",
      "[CV 1/5] END .......C=1, gamma=1, kernel=linear;, score=0.970 total time=   0.6s\n",
      "[CV 2/5] END .......C=1, gamma=1, kernel=linear;, score=0.985 total time=   0.5s\n",
      "[CV 3/5] END .......C=1, gamma=1, kernel=linear;, score=0.985 total time=   0.1s\n",
      "[CV 4/5] END .......C=1, gamma=1, kernel=linear;, score=0.995 total time=   0.8s\n",
      "[CV 5/5] END .......C=1, gamma=1, kernel=linear;, score=0.985 total time=   0.8s\n",
      "[CV 1/5] END ........C=1, gamma=0.1, kernel=rbf;, score=0.813 total time=   0.0s\n",
      "[CV 2/5] END ........C=1, gamma=0.1, kernel=rbf;, score=0.808 total time=   0.0s\n",
      "[CV 3/5] END ........C=1, gamma=0.1, kernel=rbf;, score=0.813 total time=   0.0s\n",
      "[CV 4/5] END ........C=1, gamma=0.1, kernel=rbf;, score=0.803 total time=   0.0s\n",
      "[CV 5/5] END ........C=1, gamma=0.1, kernel=rbf;, score=0.822 total time=   0.1s\n",
      "[CV 1/5] END .....C=1, gamma=0.1, kernel=linear;, score=0.970 total time=   0.6s\n",
      "[CV 2/5] END .....C=1, gamma=0.1, kernel=linear;, score=0.985 total time=   0.5s\n",
      "[CV 3/5] END .....C=1, gamma=0.1, kernel=linear;, score=0.985 total time=   0.1s\n",
      "[CV 4/5] END .....C=1, gamma=0.1, kernel=linear;, score=0.995 total time=   0.8s\n",
      "[CV 5/5] END .....C=1, gamma=0.1, kernel=linear;, score=0.985 total time=   0.8s\n",
      "[CV 1/5] END .......C=1, gamma=0.01, kernel=rbf;, score=0.889 total time=   0.0s\n",
      "[CV 2/5] END .......C=1, gamma=0.01, kernel=rbf;, score=0.939 total time=   0.0s\n",
      "[CV 3/5] END .......C=1, gamma=0.01, kernel=rbf;, score=0.944 total time=   0.0s\n",
      "[CV 4/5] END .......C=1, gamma=0.01, kernel=rbf;, score=0.944 total time=   0.0s\n",
      "[CV 5/5] END .......C=1, gamma=0.01, kernel=rbf;, score=0.954 total time=   0.1s\n",
      "[CV 1/5] END ....C=1, gamma=0.01, kernel=linear;, score=0.970 total time=   0.5s\n",
      "[CV 2/5] END ....C=1, gamma=0.01, kernel=linear;, score=0.985 total time=   0.5s\n",
      "[CV 3/5] END ....C=1, gamma=0.01, kernel=linear;, score=0.985 total time=   0.1s\n",
      "[CV 4/5] END ....C=1, gamma=0.01, kernel=linear;, score=0.995 total time=   0.8s\n",
      "[CV 5/5] END ....C=1, gamma=0.01, kernel=linear;, score=0.985 total time=   0.8s\n",
      "[CV 1/5] END ........C=100, gamma=1, kernel=rbf;, score=0.778 total time=   0.0s\n",
      "[CV 2/5] END ........C=100, gamma=1, kernel=rbf;, score=0.778 total time=   0.0s\n",
      "[CV 3/5] END ........C=100, gamma=1, kernel=rbf;, score=0.778 total time=   0.0s\n",
      "[CV 4/5] END ........C=100, gamma=1, kernel=rbf;, score=0.778 total time=   0.0s\n",
      "[CV 5/5] END ........C=100, gamma=1, kernel=rbf;, score=0.782 total time=   0.0s\n",
      "[CV 1/5] END .....C=100, gamma=1, kernel=linear;, score=0.970 total time=   6.0s\n",
      "[CV 2/5] END .....C=100, gamma=1, kernel=linear;, score=0.985 total time=  20.0s\n",
      "[CV 3/5] END .....C=100, gamma=1, kernel=linear;, score=0.985 total time=  18.6s\n",
      "[CV 4/5] END .....C=100, gamma=1, kernel=linear;, score=0.995 total time=  17.7s\n",
      "[CV 5/5] END .....C=100, gamma=1, kernel=linear;, score=0.990 total time=  15.6s\n",
      "[CV 1/5] END ......C=100, gamma=0.1, kernel=rbf;, score=0.818 total time=   0.1s\n",
      "[CV 2/5] END ......C=100, gamma=0.1, kernel=rbf;, score=0.843 total time=   0.1s\n",
      "[CV 3/5] END ......C=100, gamma=0.1, kernel=rbf;, score=0.818 total time=   0.1s\n",
      "[CV 4/5] END ......C=100, gamma=0.1, kernel=rbf;, score=0.833 total time=   0.1s\n",
      "[CV 5/5] END ......C=100, gamma=0.1, kernel=rbf;, score=0.848 total time=   0.1s\n",
      "[CV 1/5] END ...C=100, gamma=0.1, kernel=linear;, score=0.970 total time=   7.1s\n",
      "[CV 2/5] END ...C=100, gamma=0.1, kernel=linear;, score=0.985 total time=  23.4s\n",
      "[CV 3/5] END ...C=100, gamma=0.1, kernel=linear;, score=0.985 total time=  23.3s\n",
      "[CV 4/5] END ...C=100, gamma=0.1, kernel=linear;, score=0.995 total time=  19.3s\n",
      "[CV 5/5] END ...C=100, gamma=0.1, kernel=linear;, score=0.990 total time=  17.1s\n",
      "[CV 1/5] END .....C=100, gamma=0.01, kernel=rbf;, score=0.879 total time=   0.1s\n",
      "[CV 2/5] END .....C=100, gamma=0.01, kernel=rbf;, score=0.934 total time=   0.1s\n",
      "[CV 3/5] END .....C=100, gamma=0.01, kernel=rbf;, score=0.939 total time=   0.1s\n",
      "[CV 4/5] END .....C=100, gamma=0.01, kernel=rbf;, score=0.929 total time=   0.1s\n",
      "[CV 5/5] END .....C=100, gamma=0.01, kernel=rbf;, score=0.949 total time=   0.1s\n",
      "[CV 1/5] END ..C=100, gamma=0.01, kernel=linear;, score=0.970 total time=   7.5s\n",
      "[CV 2/5] END ..C=100, gamma=0.01, kernel=linear;, score=0.985 total time=  22.3s\n",
      "[CV 3/5] END ..C=100, gamma=0.01, kernel=linear;, score=0.985 total time=  20.4s\n",
      "[CV 4/5] END ..C=100, gamma=0.01, kernel=linear;, score=0.995 total time=  18.9s\n",
      "[CV 5/5] END ..C=100, gamma=0.01, kernel=linear;, score=0.990 total time=  15.8s\n",
      "[CV 1/5] END .......C=1000, gamma=1, kernel=rbf;, score=0.778 total time=   0.1s\n",
      "[CV 2/5] END .......C=1000, gamma=1, kernel=rbf;, score=0.778 total time=   0.1s\n",
      "[CV 3/5] END .......C=1000, gamma=1, kernel=rbf;, score=0.778 total time=   0.1s\n",
      "[CV 4/5] END .......C=1000, gamma=1, kernel=rbf;, score=0.778 total time=   0.1s\n",
      "[CV 5/5] END .......C=1000, gamma=1, kernel=rbf;, score=0.782 total time=   0.1s\n",
      "[CV 1/5] END ....C=1000, gamma=1, kernel=linear;, score=0.970 total time=  33.8s\n",
      "[CV 2/5] END ....C=1000, gamma=1, kernel=linear;, score=0.980 total time=  24.9s\n",
      "[CV 3/5] END ....C=1000, gamma=1, kernel=linear;, score=0.985 total time=  50.1s\n",
      "[CV 4/5] END ....C=1000, gamma=1, kernel=linear;, score=0.995 total time=  47.5s\n",
      "[CV 5/5] END ....C=1000, gamma=1, kernel=linear;, score=0.990 total time=  13.6s\n",
      "[CV 1/5] END .....C=1000, gamma=0.1, kernel=rbf;, score=0.818 total time=   0.1s\n",
      "[CV 2/5] END .....C=1000, gamma=0.1, kernel=rbf;, score=0.843 total time=   0.1s\n",
      "[CV 3/5] END .....C=1000, gamma=0.1, kernel=rbf;, score=0.818 total time=   0.1s\n",
      "[CV 4/5] END .....C=1000, gamma=0.1, kernel=rbf;, score=0.833 total time=   0.1s\n",
      "[CV 5/5] END .....C=1000, gamma=0.1, kernel=rbf;, score=0.848 total time=   0.1s\n",
      "[CV 1/5] END ..C=1000, gamma=0.1, kernel=linear;, score=0.970 total time=  35.6s\n",
      "[CV 2/5] END ..C=1000, gamma=0.1, kernel=linear;, score=0.980 total time=  26.1s\n",
      "[CV 3/5] END ..C=1000, gamma=0.1, kernel=linear;, score=0.985 total time=  51.2s\n",
      "[CV 4/5] END ..C=1000, gamma=0.1, kernel=linear;, score=0.995 total time=  48.7s\n",
      "[CV 5/5] END ..C=1000, gamma=0.1, kernel=linear;, score=0.990 total time=  13.6s\n",
      "[CV 1/5] END ....C=1000, gamma=0.01, kernel=rbf;, score=0.884 total time=   0.1s\n",
      "[CV 2/5] END ....C=1000, gamma=0.01, kernel=rbf;, score=0.934 total time=   0.1s\n",
      "[CV 3/5] END ....C=1000, gamma=0.01, kernel=rbf;, score=0.939 total time=   0.1s\n",
      "[CV 4/5] END ....C=1000, gamma=0.01, kernel=rbf;, score=0.924 total time=   0.1s\n",
      "[CV 5/5] END ....C=1000, gamma=0.01, kernel=rbf;, score=0.939 total time=   0.1s\n",
      "[CV 1/5] END .C=1000, gamma=0.01, kernel=linear;, score=0.970 total time=  36.7s\n",
      "[CV 2/5] END .C=1000, gamma=0.01, kernel=linear;, score=0.980 total time=  24.8s\n",
      "[CV 3/5] END .C=1000, gamma=0.01, kernel=linear;, score=0.985 total time=  49.7s\n",
      "[CV 4/5] END .C=1000, gamma=0.01, kernel=linear;, score=0.995 total time=  47.7s\n",
      "[CV 5/5] END .C=1000, gamma=0.01, kernel=linear;, score=0.990 total time=  13.3s\n"
     ]
    },
    {
     "data": {
      "text/plain": [
       "GridSearchCV(estimator=SVC(),\n",
       "             param_grid={'C': [1, 100, 1000], 'gamma': [1, 0.1, 0.01],\n",
       "                         'kernel': ['rbf', 'linear']},\n",
       "             verbose=3)"
      ]
     },
     "execution_count": 44,
     "metadata": {},
     "output_type": "execute_result"
    }
   ],
   "source": [
    "model_cv.fit(X_train, y_train)"
   ]
  },
  {
   "cell_type": "code",
   "execution_count": 45,
   "metadata": {
    "scrolled": true
   },
   "outputs": [
    {
     "data": {
      "text/plain": [
       "{'C': 100, 'gamma': 1, 'kernel': 'linear'}"
      ]
     },
     "execution_count": 45,
     "metadata": {},
     "output_type": "execute_result"
    }
   ],
   "source": [
    "model_cv.best_params_"
   ]
  },
  {
   "cell_type": "markdown",
   "metadata": {},
   "source": [
    "### Gridsearch cv sonucunda, C = 100, gamma =1 ve kernel linear olarak elde edildi."
   ]
  },
  {
   "cell_type": "markdown",
   "metadata": {},
   "source": [
    "### C'nin yüksek olması soft margin yani destek vektörleri düzleminin dar olması. kernel'in linear olması ise doğrusal olarak ayrılabildiğini gösterir."
   ]
  },
  {
   "cell_type": "code",
   "execution_count": 46,
   "metadata": {},
   "outputs": [],
   "source": [
    "model_cv = SVC(C = 100, gamma=1, kernel='linear').fit(X_train, y_train)"
   ]
  },
  {
   "cell_type": "code",
   "execution_count": 47,
   "metadata": {},
   "outputs": [],
   "source": [
    "y_pred_cv = model_cv.predict(X_test)"
   ]
  },
  {
   "cell_type": "markdown",
   "metadata": {},
   "source": [
    "### Optimizasyon sonucunda, sınıflandırma performansı yükseldi ve 0.99, 0.96 elde edildi."
   ]
  },
  {
   "cell_type": "code",
   "execution_count": 49,
   "metadata": {},
   "outputs": [
    {
     "name": "stdout",
     "output_type": "stream",
     "text": [
      "[[247   7]\n",
      " [  0  76]]\n"
     ]
    }
   ],
   "source": [
    "print(confusion_matrix(y_test, y_pred_cv))"
   ]
  },
  {
   "cell_type": "code",
   "execution_count": 50,
   "metadata": {
    "scrolled": true
   },
   "outputs": [
    {
     "name": "stdout",
     "output_type": "stream",
     "text": [
      "              precision    recall  f1-score   support\n",
      "\n",
      "        evet       1.00      0.97      0.99       254\n",
      "       hayır       0.92      1.00      0.96        76\n",
      "\n",
      "    accuracy                           0.98       330\n",
      "   macro avg       0.96      0.99      0.97       330\n",
      "weighted avg       0.98      0.98      0.98       330\n",
      "\n"
     ]
    }
   ],
   "source": [
    "print(classification_report(y_test, y_pred_cv))"
   ]
  },
  {
   "cell_type": "code",
   "execution_count": 51,
   "metadata": {},
   "outputs": [],
   "source": [
    "svm_f1_hayır = f1_score(y_test, y_pred_cv, pos_label='hayır')"
   ]
  },
  {
   "cell_type": "code",
   "execution_count": 52,
   "metadata": {},
   "outputs": [],
   "source": [
    "svm_f1_evet = f1_score(y_test, y_pred_cv, pos_label='evet')"
   ]
  },
  {
   "cell_type": "markdown",
   "metadata": {},
   "source": [
    "# DT (Decision Tree)"
   ]
  },
  {
   "cell_type": "markdown",
   "metadata": {},
   "source": [
    "### Karar ağaçları algoritması karar düğümleri, dallar ve yapraklardan oluşan bir ağacı simüle etmektedir. En üstte gini index veya entropy (bizim seçimize bağlı) kriterlerine göre belirlenen (en ayırıcı değişken) root node (ana düğüm) bulunmaktadır. Aşağıya doğru dallanarak yaprak dediğimiz karar kısmına iner. Gini index veya entropy'e göre verimizi (elimizde veri sınıflandırma verisi) en iyi temsil eden değişkenleri kullanarak sınıflandırarak ilerler.\n",
    "\n",
    "### Ağaç düğüm olarak başlıyor, belirli kritere göre bir alt düğüme iniyor. Eğer o düğümdeki örneklerin hepsi aynı sınıfa aitse yaprak olarak sonlanıyor ve sınıflanıyor. Eğer aynı örneklere ait değilse alt düğüme inmeye devam ediyor.\n",
    "\n",
    "### Önemli olan ve optimizasyonda ele alınması gereken parametreler; max_depth parametresi ağacın ne kadar derine ineceğini belirler. max_feature parametresi ise bölme kararını vermek için her seferinde dikkate alınması gereken özelliklerin sayısıdır."
   ]
  },
  {
   "cell_type": "markdown",
   "metadata": {},
   "source": [
    "https://en.wikipedia.org/wiki/Decision_tree_learning"
   ]
  },
  {
   "cell_type": "markdown",
   "metadata": {},
   "source": [
    "https://towardsdatascience.com/decision-trees-in-machine-learning-641b9c4e8052"
   ]
  },
  {
   "cell_type": "code",
   "execution_count": 61,
   "metadata": {},
   "outputs": [],
   "source": [
    "X = df.drop('Kart', axis = 1)\n",
    "y = df['Kart']"
   ]
  },
  {
   "cell_type": "code",
   "execution_count": 62,
   "metadata": {},
   "outputs": [],
   "source": [
    "X = pd.get_dummies(X, drop_first=True)"
   ]
  },
  {
   "cell_type": "code",
   "execution_count": 63,
   "metadata": {},
   "outputs": [],
   "source": [
    "X_train, X_test, y_train, y_test = train_test_split(X, y, test_size=0.25, random_state=42)"
   ]
  },
  {
   "cell_type": "code",
   "execution_count": 56,
   "metadata": {},
   "outputs": [],
   "source": [
    "from sklearn.tree import DecisionTreeClassifier"
   ]
  },
  {
   "cell_type": "markdown",
   "metadata": {},
   "source": [
    "### Modelimizi çağırıp default değerlerle fit ve train ederek tahminliyoruz. criterion = 'gini', max_depth = 'none', max_features = 'none'."
   ]
  },
  {
   "cell_type": "code",
   "execution_count": 57,
   "metadata": {},
   "outputs": [],
   "source": [
    "dt_model = DecisionTreeClassifier().fit(X_train, y_train)"
   ]
  },
  {
   "cell_type": "code",
   "execution_count": 58,
   "metadata": {},
   "outputs": [],
   "source": [
    "y_pred = dt_model.predict(X_test)"
   ]
  },
  {
   "cell_type": "code",
   "execution_count": 59,
   "metadata": {},
   "outputs": [
    {
     "name": "stdout",
     "output_type": "stream",
     "text": [
      "[[248   6]\n",
      " [  1  75]]\n"
     ]
    }
   ],
   "source": [
    "print(confusion_matrix(y_test, y_pred))"
   ]
  },
  {
   "cell_type": "code",
   "execution_count": 60,
   "metadata": {
    "scrolled": true
   },
   "outputs": [
    {
     "name": "stdout",
     "output_type": "stream",
     "text": [
      "              precision    recall  f1-score   support\n",
      "\n",
      "        evet       1.00      0.98      0.99       254\n",
      "       hayır       0.93      0.99      0.96        76\n",
      "\n",
      "    accuracy                           0.98       330\n",
      "   macro avg       0.96      0.98      0.97       330\n",
      "weighted avg       0.98      0.98      0.98       330\n",
      "\n"
     ]
    }
   ],
   "source": [
    "print(classification_report(y_test, y_pred))"
   ]
  },
  {
   "cell_type": "markdown",
   "metadata": {},
   "source": [
    "### Performansı optimize etmek maksadıyla, gridsearch cv ile parametre ayarlaması yapıyoruz. Elde ettiğimiz değerleri kullanarak modelimizi tekrar kuruyoruz."
   ]
  },
  {
   "cell_type": "code",
   "execution_count": 64,
   "metadata": {},
   "outputs": [],
   "source": [
    "dt_params = {'criterion' : ['gini', 'entropy'],\n",
    "            'max_depth' : [3, 5, 7]\n",
    "            }"
   ]
  },
  {
   "cell_type": "code",
   "execution_count": 65,
   "metadata": {},
   "outputs": [],
   "source": [
    "dt = DecisionTreeClassifier()"
   ]
  },
  {
   "cell_type": "code",
   "execution_count": 66,
   "metadata": {},
   "outputs": [
    {
     "name": "stdout",
     "output_type": "stream",
     "text": [
      "Fitting 5 folds for each of 6 candidates, totalling 30 fits\n",
      "[CV] END ........................criterion=gini, max_depth=3; total time=   0.0s\n",
      "[CV] END ........................criterion=gini, max_depth=3; total time=   0.0s\n",
      "[CV] END ........................criterion=gini, max_depth=3; total time=   0.0s\n",
      "[CV] END ........................criterion=gini, max_depth=3; total time=   0.0s\n",
      "[CV] END ........................criterion=gini, max_depth=3; total time=   0.0s\n",
      "[CV] END ........................criterion=gini, max_depth=5; total time=   0.0s\n",
      "[CV] END ........................criterion=gini, max_depth=5; total time=   0.0s\n",
      "[CV] END ........................criterion=gini, max_depth=5; total time=   0.0s\n",
      "[CV] END ........................criterion=gini, max_depth=5; total time=   0.0s\n",
      "[CV] END ........................criterion=gini, max_depth=5; total time=   0.0s\n",
      "[CV] END ........................criterion=gini, max_depth=7; total time=   0.0s\n",
      "[CV] END ........................criterion=gini, max_depth=7; total time=   0.0s\n",
      "[CV] END ........................criterion=gini, max_depth=7; total time=   0.0s\n",
      "[CV] END ........................criterion=gini, max_depth=7; total time=   0.0s\n",
      "[CV] END ........................criterion=gini, max_depth=7; total time=   0.0s\n",
      "[CV] END .....................criterion=entropy, max_depth=3; total time=   0.0s\n",
      "[CV] END .....................criterion=entropy, max_depth=3; total time=   0.0s\n",
      "[CV] END .....................criterion=entropy, max_depth=3; total time=   0.0s\n",
      "[CV] END .....................criterion=entropy, max_depth=3; total time=   0.0s\n",
      "[CV] END .....................criterion=entropy, max_depth=3; total time=   0.0s\n",
      "[CV] END .....................criterion=entropy, max_depth=5; total time=   0.0s\n",
      "[CV] END .....................criterion=entropy, max_depth=5; total time=   0.0s\n",
      "[CV] END .....................criterion=entropy, max_depth=5; total time=   0.0s\n",
      "[CV] END .....................criterion=entropy, max_depth=5; total time=   0.0s\n",
      "[CV] END .....................criterion=entropy, max_depth=5; total time=   0.0s\n",
      "[CV] END .....................criterion=entropy, max_depth=7; total time=   0.0s\n",
      "[CV] END .....................criterion=entropy, max_depth=7; total time=   0.0s\n",
      "[CV] END .....................criterion=entropy, max_depth=7; total time=   0.0s\n",
      "[CV] END .....................criterion=entropy, max_depth=7; total time=   0.0s\n",
      "[CV] END .....................criterion=entropy, max_depth=7; total time=   0.0s\n"
     ]
    }
   ],
   "source": [
    "dt_cv = GridSearchCV(dt, dt_params, cv = 5, n_jobs = -1, verbose = 2).fit(X_train, y_train)"
   ]
  },
  {
   "cell_type": "code",
   "execution_count": 67,
   "metadata": {},
   "outputs": [
    {
     "data": {
      "text/plain": [
       "{'criterion': 'entropy', 'max_depth': 3}"
      ]
     },
     "execution_count": 67,
     "metadata": {},
     "output_type": "execute_result"
    }
   ],
   "source": [
    "dt_cv.best_params_"
   ]
  },
  {
   "cell_type": "code",
   "execution_count": 68,
   "metadata": {},
   "outputs": [],
   "source": [
    "dt_tuned = DecisionTreeClassifier(criterion='entropy',\n",
    "                                  max_depth = 3).fit(X_train, y_train)"
   ]
  },
  {
   "cell_type": "code",
   "execution_count": 69,
   "metadata": {},
   "outputs": [
    {
     "name": "stdout",
     "output_type": "stream",
     "text": [
      "[[248   6]\n",
      " [  1  75]]\n"
     ]
    }
   ],
   "source": [
    "print(confusion_matrix(y_test, y_pred))"
   ]
  },
  {
   "cell_type": "code",
   "execution_count": 70,
   "metadata": {
    "scrolled": true
   },
   "outputs": [
    {
     "name": "stdout",
     "output_type": "stream",
     "text": [
      "              precision    recall  f1-score   support\n",
      "\n",
      "        evet       1.00      0.98      0.99       254\n",
      "       hayır       0.93      0.99      0.96        76\n",
      "\n",
      "    accuracy                           0.98       330\n",
      "   macro avg       0.96      0.98      0.97       330\n",
      "weighted avg       0.98      0.98      0.98       330\n",
      "\n"
     ]
    }
   ],
   "source": [
    "print(classification_report(y_test, y_pred))"
   ]
  },
  {
   "cell_type": "markdown",
   "metadata": {},
   "source": [
    "### Karar ağaçları week learner (zayıf öğrenici) olarak tanımlanmaktadır. Daha iyi performans ve karar ağaçlarında sıkça karşılaşılan overfitting durumunu aşmak için ensemle methodlar kullanılmaktadır. Bu methodlar bagging ve boostingdir. En popüler algoritmaları ise Random Forest ve XGBoost'tur."
   ]
  },
  {
   "cell_type": "code",
   "execution_count": 73,
   "metadata": {},
   "outputs": [],
   "source": [
    "dt_tuned_f1_hayır = f1_score(y_test, y_pred, pos_label='hayır')"
   ]
  },
  {
   "cell_type": "code",
   "execution_count": 74,
   "metadata": {},
   "outputs": [],
   "source": [
    "dt_tuned_f1_evet = f1_score(y_test, y_pred, pos_label='evet')"
   ]
  },
  {
   "cell_type": "markdown",
   "metadata": {},
   "source": [
    "# Ensemble Yöntemleri"
   ]
  },
  {
   "cell_type": "markdown",
   "metadata": {},
   "source": [
    "### Ensemble methodları en basit tanımıyla; bir çok karar ağacının kullanımıyla sonuç elde edilmesidir. Kullanılan bu karar ağaçlarının her birinde farklı değişkenler kullanılır ve overfit olma durumu engellenir, daha iyi performans elde edilir. \n",
    "\n",
    "### Kullanılan yöntemlerden bagging'de karar ağaçları birbirine paraleldir. En sonda çoğunluk sınıflandırmasına göre karar verilir.\n",
    "\n",
    "### Boosting'de ise karar ağaçları birbirini sıralı olarak takip eder. Bir karar ağacından alınan değerler diğer ağaca tatbik edilerek, sonuç optimize edilerek ilerler ve sonucunda sınıflandırma çıkar."
   ]
  },
  {
   "cell_type": "markdown",
   "metadata": {},
   "source": [
    "https://www.toptal.com/machine-learning/ensemble-methods-machine-learning"
   ]
  },
  {
   "cell_type": "markdown",
   "metadata": {},
   "source": [
    "## RF (Random Forest) (Bagging)"
   ]
  },
  {
   "cell_type": "markdown",
   "metadata": {},
   "source": [
    "### Random forest bagging ensemle methodudur. Önemli parametreleri; n_estimators, ağaç sayısını belirtir. criterion, max_depth ve max_features decisiton tree'de belirtildiği gibidir."
   ]
  },
  {
   "cell_type": "code",
   "execution_count": 83,
   "metadata": {},
   "outputs": [],
   "source": [
    "X = df.drop('Kart', axis = 1)\n",
    "y = df['Kart']"
   ]
  },
  {
   "cell_type": "code",
   "execution_count": 84,
   "metadata": {},
   "outputs": [],
   "source": [
    "X = pd.get_dummies(X, drop_first=True)"
   ]
  },
  {
   "cell_type": "code",
   "execution_count": 85,
   "metadata": {},
   "outputs": [],
   "source": [
    "X_train, X_test, y_train, y_test = train_test_split(X, y, test_size=0.25, random_state=42)"
   ]
  },
  {
   "cell_type": "code",
   "execution_count": 78,
   "metadata": {},
   "outputs": [],
   "source": [
    "from sklearn.ensemble import RandomForestClassifier"
   ]
  },
  {
   "cell_type": "markdown",
   "metadata": {},
   "source": [
    "### Modelimizi çağırıp default değerlerle fit ve train ederek tahminliyoruz. n_estimators = 100, max_depth = 'none', max_features = 'auto'."
   ]
  },
  {
   "cell_type": "code",
   "execution_count": 79,
   "metadata": {},
   "outputs": [],
   "source": [
    "rf_model = RandomForestClassifier().fit(X_train, y_train)"
   ]
  },
  {
   "cell_type": "code",
   "execution_count": 80,
   "metadata": {},
   "outputs": [],
   "source": [
    "y_pred = rf_model.predict(X_test)"
   ]
  },
  {
   "cell_type": "code",
   "execution_count": 81,
   "metadata": {},
   "outputs": [
    {
     "name": "stdout",
     "output_type": "stream",
     "text": [
      "[[247   7]\n",
      " [  0  76]]\n"
     ]
    }
   ],
   "source": [
    "print(confusion_matrix(y_test, y_pred))"
   ]
  },
  {
   "cell_type": "code",
   "execution_count": 82,
   "metadata": {
    "scrolled": false
   },
   "outputs": [
    {
     "name": "stdout",
     "output_type": "stream",
     "text": [
      "              precision    recall  f1-score   support\n",
      "\n",
      "        evet       1.00      0.97      0.99       254\n",
      "       hayır       0.92      1.00      0.96        76\n",
      "\n",
      "    accuracy                           0.98       330\n",
      "   macro avg       0.96      0.99      0.97       330\n",
      "weighted avg       0.98      0.98      0.98       330\n",
      "\n"
     ]
    }
   ],
   "source": [
    "print(classification_report(y_test, y_pred))"
   ]
  },
  {
   "cell_type": "markdown",
   "metadata": {},
   "source": [
    "### Görüldüğü üzere default değerler kullanılmasına rağmen performansı karar ağaçlarından daha yüksek çıktı. Sonucu optimize etmek üzere gridseacrh cv ile parametre ayarlaması yapıyoruz."
   ]
  },
  {
   "cell_type": "code",
   "execution_count": 86,
   "metadata": {},
   "outputs": [],
   "source": [
    "rf = RandomForestClassifier()"
   ]
  },
  {
   "cell_type": "code",
   "execution_count": 87,
   "metadata": {},
   "outputs": [],
   "source": [
    "rf_params = {'n_estimators' : [50, 100, 300],\n",
    "            'max_depth' : [3, 5, 7],\n",
    "            'max_features' : [2, 4, 6, 8],\n",
    "            'min_samples_split' : [2, 4, 6]\n",
    "            }"
   ]
  },
  {
   "cell_type": "code",
   "execution_count": 88,
   "metadata": {
    "scrolled": true
   },
   "outputs": [
    {
     "name": "stdout",
     "output_type": "stream",
     "text": [
      "Fitting 5 folds for each of 108 candidates, totalling 540 fits\n",
      "[CV] END max_depth=3, max_features=2, min_samples_split=2, n_estimators=50; total time=   0.1s\n",
      "[CV] END max_depth=3, max_features=2, min_samples_split=2, n_estimators=50; total time=   0.1s\n",
      "[CV] END max_depth=3, max_features=2, min_samples_split=2, n_estimators=50; total time=   0.1s\n",
      "[CV] END max_depth=3, max_features=2, min_samples_split=2, n_estimators=50; total time=   0.1s\n",
      "[CV] END max_depth=3, max_features=2, min_samples_split=2, n_estimators=50; total time=   0.1s\n",
      "[CV] END max_depth=3, max_features=2, min_samples_split=2, n_estimators=100; total time=   0.1s\n",
      "[CV] END max_depth=3, max_features=2, min_samples_split=2, n_estimators=100; total time=   0.1s\n",
      "[CV] END max_depth=3, max_features=2, min_samples_split=2, n_estimators=100; total time=   0.1s\n",
      "[CV] END max_depth=3, max_features=2, min_samples_split=2, n_estimators=100; total time=   0.1s\n",
      "[CV] END max_depth=3, max_features=2, min_samples_split=2, n_estimators=100; total time=   0.1s\n",
      "[CV] END max_depth=3, max_features=2, min_samples_split=2, n_estimators=300; total time=   0.4s\n",
      "[CV] END max_depth=3, max_features=2, min_samples_split=2, n_estimators=300; total time=   0.4s\n",
      "[CV] END max_depth=3, max_features=2, min_samples_split=2, n_estimators=300; total time=   0.4s\n",
      "[CV] END max_depth=3, max_features=2, min_samples_split=2, n_estimators=300; total time=   0.4s\n",
      "[CV] END max_depth=3, max_features=2, min_samples_split=2, n_estimators=300; total time=   0.4s\n",
      "[CV] END max_depth=3, max_features=2, min_samples_split=4, n_estimators=50; total time=   0.1s\n",
      "[CV] END max_depth=3, max_features=2, min_samples_split=4, n_estimators=50; total time=   0.1s\n",
      "[CV] END max_depth=3, max_features=2, min_samples_split=4, n_estimators=50; total time=   0.1s\n",
      "[CV] END max_depth=3, max_features=2, min_samples_split=4, n_estimators=50; total time=   0.1s\n",
      "[CV] END max_depth=3, max_features=2, min_samples_split=4, n_estimators=50; total time=   0.1s\n",
      "[CV] END max_depth=3, max_features=2, min_samples_split=4, n_estimators=100; total time=   0.1s\n",
      "[CV] END max_depth=3, max_features=2, min_samples_split=4, n_estimators=100; total time=   0.1s\n",
      "[CV] END max_depth=3, max_features=2, min_samples_split=4, n_estimators=100; total time=   0.2s\n",
      "[CV] END max_depth=3, max_features=2, min_samples_split=4, n_estimators=100; total time=   0.1s\n",
      "[CV] END max_depth=3, max_features=2, min_samples_split=4, n_estimators=100; total time=   0.1s\n",
      "[CV] END max_depth=3, max_features=2, min_samples_split=4, n_estimators=300; total time=   0.4s\n",
      "[CV] END max_depth=3, max_features=2, min_samples_split=4, n_estimators=300; total time=   0.4s\n",
      "[CV] END max_depth=3, max_features=2, min_samples_split=4, n_estimators=300; total time=   0.4s\n",
      "[CV] END max_depth=3, max_features=2, min_samples_split=4, n_estimators=300; total time=   0.4s\n",
      "[CV] END max_depth=3, max_features=2, min_samples_split=4, n_estimators=300; total time=   0.4s\n",
      "[CV] END max_depth=3, max_features=2, min_samples_split=6, n_estimators=50; total time=   0.1s\n",
      "[CV] END max_depth=3, max_features=2, min_samples_split=6, n_estimators=50; total time=   0.1s\n",
      "[CV] END max_depth=3, max_features=2, min_samples_split=6, n_estimators=50; total time=   0.1s\n",
      "[CV] END max_depth=3, max_features=2, min_samples_split=6, n_estimators=50; total time=   0.1s\n",
      "[CV] END max_depth=3, max_features=2, min_samples_split=6, n_estimators=50; total time=   0.1s\n",
      "[CV] END max_depth=3, max_features=2, min_samples_split=6, n_estimators=100; total time=   0.1s\n",
      "[CV] END max_depth=3, max_features=2, min_samples_split=6, n_estimators=100; total time=   0.1s\n",
      "[CV] END max_depth=3, max_features=2, min_samples_split=6, n_estimators=100; total time=   0.1s\n",
      "[CV] END max_depth=3, max_features=2, min_samples_split=6, n_estimators=100; total time=   0.1s\n",
      "[CV] END max_depth=3, max_features=2, min_samples_split=6, n_estimators=100; total time=   0.2s\n",
      "[CV] END max_depth=3, max_features=2, min_samples_split=6, n_estimators=300; total time=   0.4s\n",
      "[CV] END max_depth=3, max_features=2, min_samples_split=6, n_estimators=300; total time=   0.4s\n",
      "[CV] END max_depth=3, max_features=2, min_samples_split=6, n_estimators=300; total time=   0.4s\n",
      "[CV] END max_depth=3, max_features=2, min_samples_split=6, n_estimators=300; total time=   0.4s\n",
      "[CV] END max_depth=3, max_features=2, min_samples_split=6, n_estimators=300; total time=   0.4s\n",
      "[CV] END max_depth=3, max_features=4, min_samples_split=2, n_estimators=50; total time=   0.1s\n",
      "[CV] END max_depth=3, max_features=4, min_samples_split=2, n_estimators=50; total time=   0.1s\n",
      "[CV] END max_depth=3, max_features=4, min_samples_split=2, n_estimators=50; total time=   0.1s\n",
      "[CV] END max_depth=3, max_features=4, min_samples_split=2, n_estimators=50; total time=   0.1s\n",
      "[CV] END max_depth=3, max_features=4, min_samples_split=2, n_estimators=50; total time=   0.1s\n",
      "[CV] END max_depth=3, max_features=4, min_samples_split=2, n_estimators=100; total time=   0.1s\n",
      "[CV] END max_depth=3, max_features=4, min_samples_split=2, n_estimators=100; total time=   0.1s\n",
      "[CV] END max_depth=3, max_features=4, min_samples_split=2, n_estimators=100; total time=   0.1s\n",
      "[CV] END max_depth=3, max_features=4, min_samples_split=2, n_estimators=100; total time=   0.1s\n",
      "[CV] END max_depth=3, max_features=4, min_samples_split=2, n_estimators=100; total time=   0.2s\n",
      "[CV] END max_depth=3, max_features=4, min_samples_split=2, n_estimators=300; total time=   0.4s\n",
      "[CV] END max_depth=3, max_features=4, min_samples_split=2, n_estimators=300; total time=   0.4s\n",
      "[CV] END max_depth=3, max_features=4, min_samples_split=2, n_estimators=300; total time=   0.4s\n",
      "[CV] END max_depth=3, max_features=4, min_samples_split=2, n_estimators=300; total time=   0.4s\n",
      "[CV] END max_depth=3, max_features=4, min_samples_split=2, n_estimators=300; total time=   0.4s\n",
      "[CV] END max_depth=3, max_features=4, min_samples_split=4, n_estimators=50; total time=   0.1s\n",
      "[CV] END max_depth=3, max_features=4, min_samples_split=4, n_estimators=50; total time=   0.1s\n",
      "[CV] END max_depth=3, max_features=4, min_samples_split=4, n_estimators=50; total time=   0.1s\n",
      "[CV] END max_depth=3, max_features=4, min_samples_split=4, n_estimators=50; total time=   0.1s\n",
      "[CV] END max_depth=3, max_features=4, min_samples_split=4, n_estimators=50; total time=   0.1s\n",
      "[CV] END max_depth=3, max_features=4, min_samples_split=4, n_estimators=100; total time=   0.2s\n",
      "[CV] END max_depth=3, max_features=4, min_samples_split=4, n_estimators=100; total time=   0.1s\n",
      "[CV] END max_depth=3, max_features=4, min_samples_split=4, n_estimators=100; total time=   0.1s\n",
      "[CV] END max_depth=3, max_features=4, min_samples_split=4, n_estimators=100; total time=   0.1s\n",
      "[CV] END max_depth=3, max_features=4, min_samples_split=4, n_estimators=100; total time=   0.1s\n",
      "[CV] END max_depth=3, max_features=4, min_samples_split=4, n_estimators=300; total time=   0.4s\n",
      "[CV] END max_depth=3, max_features=4, min_samples_split=4, n_estimators=300; total time=   0.4s\n",
      "[CV] END max_depth=3, max_features=4, min_samples_split=4, n_estimators=300; total time=   0.4s\n",
      "[CV] END max_depth=3, max_features=4, min_samples_split=4, n_estimators=300; total time=   0.4s\n",
      "[CV] END max_depth=3, max_features=4, min_samples_split=4, n_estimators=300; total time=   0.4s\n",
      "[CV] END max_depth=3, max_features=4, min_samples_split=6, n_estimators=50; total time=   0.1s\n",
      "[CV] END max_depth=3, max_features=4, min_samples_split=6, n_estimators=50; total time=   0.1s\n",
      "[CV] END max_depth=3, max_features=4, min_samples_split=6, n_estimators=50; total time=   0.1s\n",
      "[CV] END max_depth=3, max_features=4, min_samples_split=6, n_estimators=50; total time=   0.1s\n",
      "[CV] END max_depth=3, max_features=4, min_samples_split=6, n_estimators=50; total time=   0.1s\n",
      "[CV] END max_depth=3, max_features=4, min_samples_split=6, n_estimators=100; total time=   0.1s\n",
      "[CV] END max_depth=3, max_features=4, min_samples_split=6, n_estimators=100; total time=   0.2s\n",
      "[CV] END max_depth=3, max_features=4, min_samples_split=6, n_estimators=100; total time=   0.2s\n",
      "[CV] END max_depth=3, max_features=4, min_samples_split=6, n_estimators=100; total time=   0.2s\n",
      "[CV] END max_depth=3, max_features=4, min_samples_split=6, n_estimators=100; total time=   0.2s\n"
     ]
    },
    {
     "name": "stdout",
     "output_type": "stream",
     "text": [
      "[CV] END max_depth=3, max_features=4, min_samples_split=6, n_estimators=300; total time=   0.5s\n",
      "[CV] END max_depth=3, max_features=4, min_samples_split=6, n_estimators=300; total time=   0.4s\n",
      "[CV] END max_depth=3, max_features=4, min_samples_split=6, n_estimators=300; total time=   0.4s\n",
      "[CV] END max_depth=3, max_features=4, min_samples_split=6, n_estimators=300; total time=   0.4s\n",
      "[CV] END max_depth=3, max_features=4, min_samples_split=6, n_estimators=300; total time=   0.4s\n",
      "[CV] END max_depth=3, max_features=6, min_samples_split=2, n_estimators=50; total time=   0.1s\n",
      "[CV] END max_depth=3, max_features=6, min_samples_split=2, n_estimators=50; total time=   0.1s\n",
      "[CV] END max_depth=3, max_features=6, min_samples_split=2, n_estimators=50; total time=   0.1s\n",
      "[CV] END max_depth=3, max_features=6, min_samples_split=2, n_estimators=50; total time=   0.1s\n",
      "[CV] END max_depth=3, max_features=6, min_samples_split=2, n_estimators=50; total time=   0.1s\n",
      "[CV] END max_depth=3, max_features=6, min_samples_split=2, n_estimators=100; total time=   0.2s\n",
      "[CV] END max_depth=3, max_features=6, min_samples_split=2, n_estimators=100; total time=   0.2s\n",
      "[CV] END max_depth=3, max_features=6, min_samples_split=2, n_estimators=100; total time=   0.2s\n",
      "[CV] END max_depth=3, max_features=6, min_samples_split=2, n_estimators=100; total time=   0.2s\n",
      "[CV] END max_depth=3, max_features=6, min_samples_split=2, n_estimators=100; total time=   0.2s\n",
      "[CV] END max_depth=3, max_features=6, min_samples_split=2, n_estimators=300; total time=   0.5s\n",
      "[CV] END max_depth=3, max_features=6, min_samples_split=2, n_estimators=300; total time=   0.5s\n",
      "[CV] END max_depth=3, max_features=6, min_samples_split=2, n_estimators=300; total time=   0.5s\n",
      "[CV] END max_depth=3, max_features=6, min_samples_split=2, n_estimators=300; total time=   0.4s\n",
      "[CV] END max_depth=3, max_features=6, min_samples_split=2, n_estimators=300; total time=   0.5s\n",
      "[CV] END max_depth=3, max_features=6, min_samples_split=4, n_estimators=50; total time=   0.1s\n",
      "[CV] END max_depth=3, max_features=6, min_samples_split=4, n_estimators=50; total time=   0.1s\n",
      "[CV] END max_depth=3, max_features=6, min_samples_split=4, n_estimators=50; total time=   0.1s\n",
      "[CV] END max_depth=3, max_features=6, min_samples_split=4, n_estimators=50; total time=   0.1s\n",
      "[CV] END max_depth=3, max_features=6, min_samples_split=4, n_estimators=50; total time=   0.1s\n",
      "[CV] END max_depth=3, max_features=6, min_samples_split=4, n_estimators=100; total time=   0.2s\n",
      "[CV] END max_depth=3, max_features=6, min_samples_split=4, n_estimators=100; total time=   0.2s\n",
      "[CV] END max_depth=3, max_features=6, min_samples_split=4, n_estimators=100; total time=   0.2s\n",
      "[CV] END max_depth=3, max_features=6, min_samples_split=4, n_estimators=100; total time=   0.2s\n",
      "[CV] END max_depth=3, max_features=6, min_samples_split=4, n_estimators=100; total time=   0.2s\n",
      "[CV] END max_depth=3, max_features=6, min_samples_split=4, n_estimators=300; total time=   0.5s\n",
      "[CV] END max_depth=3, max_features=6, min_samples_split=4, n_estimators=300; total time=   0.5s\n",
      "[CV] END max_depth=3, max_features=6, min_samples_split=4, n_estimators=300; total time=   0.5s\n",
      "[CV] END max_depth=3, max_features=6, min_samples_split=4, n_estimators=300; total time=   0.5s\n",
      "[CV] END max_depth=3, max_features=6, min_samples_split=4, n_estimators=300; total time=   0.5s\n",
      "[CV] END max_depth=3, max_features=6, min_samples_split=6, n_estimators=50; total time=   0.1s\n",
      "[CV] END max_depth=3, max_features=6, min_samples_split=6, n_estimators=50; total time=   0.1s\n",
      "[CV] END max_depth=3, max_features=6, min_samples_split=6, n_estimators=50; total time=   0.1s\n",
      "[CV] END max_depth=3, max_features=6, min_samples_split=6, n_estimators=50; total time=   0.1s\n",
      "[CV] END max_depth=3, max_features=6, min_samples_split=6, n_estimators=50; total time=   0.1s\n",
      "[CV] END max_depth=3, max_features=6, min_samples_split=6, n_estimators=100; total time=   0.2s\n",
      "[CV] END max_depth=3, max_features=6, min_samples_split=6, n_estimators=100; total time=   0.2s\n",
      "[CV] END max_depth=3, max_features=6, min_samples_split=6, n_estimators=100; total time=   0.2s\n",
      "[CV] END max_depth=3, max_features=6, min_samples_split=6, n_estimators=100; total time=   0.2s\n",
      "[CV] END max_depth=3, max_features=6, min_samples_split=6, n_estimators=100; total time=   0.2s\n",
      "[CV] END max_depth=3, max_features=6, min_samples_split=6, n_estimators=300; total time=   0.5s\n",
      "[CV] END max_depth=3, max_features=6, min_samples_split=6, n_estimators=300; total time=   0.5s\n",
      "[CV] END max_depth=3, max_features=6, min_samples_split=6, n_estimators=300; total time=   0.6s\n",
      "[CV] END max_depth=3, max_features=6, min_samples_split=6, n_estimators=300; total time=   0.5s\n",
      "[CV] END max_depth=3, max_features=6, min_samples_split=6, n_estimators=300; total time=   0.6s\n",
      "[CV] END max_depth=3, max_features=8, min_samples_split=2, n_estimators=50; total time=   0.1s\n",
      "[CV] END max_depth=3, max_features=8, min_samples_split=2, n_estimators=50; total time=   0.1s\n",
      "[CV] END max_depth=3, max_features=8, min_samples_split=2, n_estimators=50; total time=   0.1s\n",
      "[CV] END max_depth=3, max_features=8, min_samples_split=2, n_estimators=50; total time=   0.1s\n",
      "[CV] END max_depth=3, max_features=8, min_samples_split=2, n_estimators=50; total time=   0.1s\n",
      "[CV] END max_depth=3, max_features=8, min_samples_split=2, n_estimators=100; total time=   0.2s\n",
      "[CV] END max_depth=3, max_features=8, min_samples_split=2, n_estimators=100; total time=   0.2s\n",
      "[CV] END max_depth=3, max_features=8, min_samples_split=2, n_estimators=100; total time=   0.2s\n",
      "[CV] END max_depth=3, max_features=8, min_samples_split=2, n_estimators=100; total time=   0.2s\n",
      "[CV] END max_depth=3, max_features=8, min_samples_split=2, n_estimators=100; total time=   0.2s\n",
      "[CV] END max_depth=3, max_features=8, min_samples_split=2, n_estimators=300; total time=   0.5s\n",
      "[CV] END max_depth=3, max_features=8, min_samples_split=2, n_estimators=300; total time=   0.5s\n",
      "[CV] END max_depth=3, max_features=8, min_samples_split=2, n_estimators=300; total time=   0.6s\n",
      "[CV] END max_depth=3, max_features=8, min_samples_split=2, n_estimators=300; total time=   0.5s\n",
      "[CV] END max_depth=3, max_features=8, min_samples_split=2, n_estimators=300; total time=   0.5s\n",
      "[CV] END max_depth=3, max_features=8, min_samples_split=4, n_estimators=50; total time=   0.1s\n",
      "[CV] END max_depth=3, max_features=8, min_samples_split=4, n_estimators=50; total time=   0.1s\n",
      "[CV] END max_depth=3, max_features=8, min_samples_split=4, n_estimators=50; total time=   0.1s\n",
      "[CV] END max_depth=3, max_features=8, min_samples_split=4, n_estimators=50; total time=   0.1s\n",
      "[CV] END max_depth=3, max_features=8, min_samples_split=4, n_estimators=50; total time=   0.1s\n",
      "[CV] END max_depth=3, max_features=8, min_samples_split=4, n_estimators=100; total time=   0.2s\n",
      "[CV] END max_depth=3, max_features=8, min_samples_split=4, n_estimators=100; total time=   0.2s\n",
      "[CV] END max_depth=3, max_features=8, min_samples_split=4, n_estimators=100; total time=   0.2s\n",
      "[CV] END max_depth=3, max_features=8, min_samples_split=4, n_estimators=100; total time=   0.2s\n",
      "[CV] END max_depth=3, max_features=8, min_samples_split=4, n_estimators=100; total time=   0.2s\n",
      "[CV] END max_depth=3, max_features=8, min_samples_split=4, n_estimators=300; total time=   0.5s\n",
      "[CV] END max_depth=3, max_features=8, min_samples_split=4, n_estimators=300; total time=   0.5s\n",
      "[CV] END max_depth=3, max_features=8, min_samples_split=4, n_estimators=300; total time=   0.5s\n",
      "[CV] END max_depth=3, max_features=8, min_samples_split=4, n_estimators=300; total time=   0.5s\n",
      "[CV] END max_depth=3, max_features=8, min_samples_split=4, n_estimators=300; total time=   0.5s\n",
      "[CV] END max_depth=3, max_features=8, min_samples_split=6, n_estimators=50; total time=   0.1s\n",
      "[CV] END max_depth=3, max_features=8, min_samples_split=6, n_estimators=50; total time=   0.1s\n",
      "[CV] END max_depth=3, max_features=8, min_samples_split=6, n_estimators=50; total time=   0.1s\n",
      "[CV] END max_depth=3, max_features=8, min_samples_split=6, n_estimators=50; total time=   0.1s\n",
      "[CV] END max_depth=3, max_features=8, min_samples_split=6, n_estimators=50; total time=   0.1s\n",
      "[CV] END max_depth=3, max_features=8, min_samples_split=6, n_estimators=100; total time=   0.2s\n",
      "[CV] END max_depth=3, max_features=8, min_samples_split=6, n_estimators=100; total time=   0.2s\n"
     ]
    },
    {
     "name": "stdout",
     "output_type": "stream",
     "text": [
      "[CV] END max_depth=3, max_features=8, min_samples_split=6, n_estimators=100; total time=   0.2s\n",
      "[CV] END max_depth=3, max_features=8, min_samples_split=6, n_estimators=100; total time=   0.2s\n",
      "[CV] END max_depth=3, max_features=8, min_samples_split=6, n_estimators=100; total time=   0.2s\n",
      "[CV] END max_depth=3, max_features=8, min_samples_split=6, n_estimators=300; total time=   0.5s\n",
      "[CV] END max_depth=3, max_features=8, min_samples_split=6, n_estimators=300; total time=   0.5s\n",
      "[CV] END max_depth=3, max_features=8, min_samples_split=6, n_estimators=300; total time=   0.5s\n",
      "[CV] END max_depth=3, max_features=8, min_samples_split=6, n_estimators=300; total time=   0.6s\n",
      "[CV] END max_depth=3, max_features=8, min_samples_split=6, n_estimators=300; total time=   0.5s\n",
      "[CV] END max_depth=5, max_features=2, min_samples_split=2, n_estimators=50; total time=   0.1s\n",
      "[CV] END max_depth=5, max_features=2, min_samples_split=2, n_estimators=50; total time=   0.1s\n",
      "[CV] END max_depth=5, max_features=2, min_samples_split=2, n_estimators=50; total time=   0.1s\n",
      "[CV] END max_depth=5, max_features=2, min_samples_split=2, n_estimators=50; total time=   0.1s\n",
      "[CV] END max_depth=5, max_features=2, min_samples_split=2, n_estimators=50; total time=   0.1s\n",
      "[CV] END max_depth=5, max_features=2, min_samples_split=2, n_estimators=100; total time=   0.2s\n",
      "[CV] END max_depth=5, max_features=2, min_samples_split=2, n_estimators=100; total time=   0.2s\n",
      "[CV] END max_depth=5, max_features=2, min_samples_split=2, n_estimators=100; total time=   0.2s\n",
      "[CV] END max_depth=5, max_features=2, min_samples_split=2, n_estimators=100; total time=   0.2s\n",
      "[CV] END max_depth=5, max_features=2, min_samples_split=2, n_estimators=100; total time=   0.2s\n",
      "[CV] END max_depth=5, max_features=2, min_samples_split=2, n_estimators=300; total time=   0.5s\n",
      "[CV] END max_depth=5, max_features=2, min_samples_split=2, n_estimators=300; total time=   0.5s\n",
      "[CV] END max_depth=5, max_features=2, min_samples_split=2, n_estimators=300; total time=   0.5s\n",
      "[CV] END max_depth=5, max_features=2, min_samples_split=2, n_estimators=300; total time=   0.5s\n",
      "[CV] END max_depth=5, max_features=2, min_samples_split=2, n_estimators=300; total time=   0.5s\n",
      "[CV] END max_depth=5, max_features=2, min_samples_split=4, n_estimators=50; total time=   0.1s\n",
      "[CV] END max_depth=5, max_features=2, min_samples_split=4, n_estimators=50; total time=   0.1s\n",
      "[CV] END max_depth=5, max_features=2, min_samples_split=4, n_estimators=50; total time=   0.1s\n",
      "[CV] END max_depth=5, max_features=2, min_samples_split=4, n_estimators=50; total time=   0.1s\n",
      "[CV] END max_depth=5, max_features=2, min_samples_split=4, n_estimators=50; total time=   0.1s\n",
      "[CV] END max_depth=5, max_features=2, min_samples_split=4, n_estimators=100; total time=   0.2s\n",
      "[CV] END max_depth=5, max_features=2, min_samples_split=4, n_estimators=100; total time=   0.2s\n",
      "[CV] END max_depth=5, max_features=2, min_samples_split=4, n_estimators=100; total time=   0.2s\n",
      "[CV] END max_depth=5, max_features=2, min_samples_split=4, n_estimators=100; total time=   0.2s\n",
      "[CV] END max_depth=5, max_features=2, min_samples_split=4, n_estimators=100; total time=   0.2s\n",
      "[CV] END max_depth=5, max_features=2, min_samples_split=4, n_estimators=300; total time=   0.5s\n",
      "[CV] END max_depth=5, max_features=2, min_samples_split=4, n_estimators=300; total time=   0.5s\n",
      "[CV] END max_depth=5, max_features=2, min_samples_split=4, n_estimators=300; total time=   0.5s\n",
      "[CV] END max_depth=5, max_features=2, min_samples_split=4, n_estimators=300; total time=   0.5s\n",
      "[CV] END max_depth=5, max_features=2, min_samples_split=4, n_estimators=300; total time=   0.5s\n",
      "[CV] END max_depth=5, max_features=2, min_samples_split=6, n_estimators=50; total time=   0.1s\n",
      "[CV] END max_depth=5, max_features=2, min_samples_split=6, n_estimators=50; total time=   0.1s\n",
      "[CV] END max_depth=5, max_features=2, min_samples_split=6, n_estimators=50; total time=   0.1s\n",
      "[CV] END max_depth=5, max_features=2, min_samples_split=6, n_estimators=50; total time=   0.1s\n",
      "[CV] END max_depth=5, max_features=2, min_samples_split=6, n_estimators=50; total time=   0.1s\n",
      "[CV] END max_depth=5, max_features=2, min_samples_split=6, n_estimators=100; total time=   0.2s\n",
      "[CV] END max_depth=5, max_features=2, min_samples_split=6, n_estimators=100; total time=   0.2s\n",
      "[CV] END max_depth=5, max_features=2, min_samples_split=6, n_estimators=100; total time=   0.2s\n",
      "[CV] END max_depth=5, max_features=2, min_samples_split=6, n_estimators=100; total time=   0.2s\n",
      "[CV] END max_depth=5, max_features=2, min_samples_split=6, n_estimators=100; total time=   0.2s\n",
      "[CV] END max_depth=5, max_features=2, min_samples_split=6, n_estimators=300; total time=   0.5s\n",
      "[CV] END max_depth=5, max_features=2, min_samples_split=6, n_estimators=300; total time=   0.5s\n",
      "[CV] END max_depth=5, max_features=2, min_samples_split=6, n_estimators=300; total time=   0.5s\n",
      "[CV] END max_depth=5, max_features=2, min_samples_split=6, n_estimators=300; total time=   0.5s\n",
      "[CV] END max_depth=5, max_features=2, min_samples_split=6, n_estimators=300; total time=   0.6s\n",
      "[CV] END max_depth=5, max_features=4, min_samples_split=2, n_estimators=50; total time=   0.1s\n",
      "[CV] END max_depth=5, max_features=4, min_samples_split=2, n_estimators=50; total time=   0.1s\n",
      "[CV] END max_depth=5, max_features=4, min_samples_split=2, n_estimators=50; total time=   0.1s\n",
      "[CV] END max_depth=5, max_features=4, min_samples_split=2, n_estimators=50; total time=   0.1s\n",
      "[CV] END max_depth=5, max_features=4, min_samples_split=2, n_estimators=50; total time=   0.1s\n",
      "[CV] END max_depth=5, max_features=4, min_samples_split=2, n_estimators=100; total time=   0.2s\n",
      "[CV] END max_depth=5, max_features=4, min_samples_split=2, n_estimators=100; total time=   0.2s\n",
      "[CV] END max_depth=5, max_features=4, min_samples_split=2, n_estimators=100; total time=   0.2s\n",
      "[CV] END max_depth=5, max_features=4, min_samples_split=2, n_estimators=100; total time=   0.2s\n",
      "[CV] END max_depth=5, max_features=4, min_samples_split=2, n_estimators=100; total time=   0.2s\n",
      "[CV] END max_depth=5, max_features=4, min_samples_split=2, n_estimators=300; total time=   0.5s\n",
      "[CV] END max_depth=5, max_features=4, min_samples_split=2, n_estimators=300; total time=   0.5s\n",
      "[CV] END max_depth=5, max_features=4, min_samples_split=2, n_estimators=300; total time=   0.5s\n",
      "[CV] END max_depth=5, max_features=4, min_samples_split=2, n_estimators=300; total time=   0.6s\n",
      "[CV] END max_depth=5, max_features=4, min_samples_split=2, n_estimators=300; total time=   0.5s\n",
      "[CV] END max_depth=5, max_features=4, min_samples_split=4, n_estimators=50; total time=   0.1s\n",
      "[CV] END max_depth=5, max_features=4, min_samples_split=4, n_estimators=50; total time=   0.1s\n",
      "[CV] END max_depth=5, max_features=4, min_samples_split=4, n_estimators=50; total time=   0.1s\n",
      "[CV] END max_depth=5, max_features=4, min_samples_split=4, n_estimators=50; total time=   0.1s\n",
      "[CV] END max_depth=5, max_features=4, min_samples_split=4, n_estimators=50; total time=   0.1s\n",
      "[CV] END max_depth=5, max_features=4, min_samples_split=4, n_estimators=100; total time=   0.2s\n",
      "[CV] END max_depth=5, max_features=4, min_samples_split=4, n_estimators=100; total time=   0.2s\n",
      "[CV] END max_depth=5, max_features=4, min_samples_split=4, n_estimators=100; total time=   0.2s\n",
      "[CV] END max_depth=5, max_features=4, min_samples_split=4, n_estimators=100; total time=   0.2s\n",
      "[CV] END max_depth=5, max_features=4, min_samples_split=4, n_estimators=100; total time=   0.2s\n",
      "[CV] END max_depth=5, max_features=4, min_samples_split=4, n_estimators=300; total time=   0.5s\n",
      "[CV] END max_depth=5, max_features=4, min_samples_split=4, n_estimators=300; total time=   0.5s\n",
      "[CV] END max_depth=5, max_features=4, min_samples_split=4, n_estimators=300; total time=   0.5s\n",
      "[CV] END max_depth=5, max_features=4, min_samples_split=4, n_estimators=300; total time=   0.5s\n",
      "[CV] END max_depth=5, max_features=4, min_samples_split=4, n_estimators=300; total time=   0.5s\n",
      "[CV] END max_depth=5, max_features=4, min_samples_split=6, n_estimators=50; total time=   0.1s\n",
      "[CV] END max_depth=5, max_features=4, min_samples_split=6, n_estimators=50; total time=   0.1s\n",
      "[CV] END max_depth=5, max_features=4, min_samples_split=6, n_estimators=50; total time=   0.1s\n",
      "[CV] END max_depth=5, max_features=4, min_samples_split=6, n_estimators=50; total time=   0.1s\n",
      "[CV] END max_depth=5, max_features=4, min_samples_split=6, n_estimators=50; total time=   0.1s\n"
     ]
    },
    {
     "name": "stdout",
     "output_type": "stream",
     "text": [
      "[CV] END max_depth=5, max_features=4, min_samples_split=6, n_estimators=100; total time=   0.2s\n",
      "[CV] END max_depth=5, max_features=4, min_samples_split=6, n_estimators=100; total time=   0.2s\n",
      "[CV] END max_depth=5, max_features=4, min_samples_split=6, n_estimators=100; total time=   0.2s\n",
      "[CV] END max_depth=5, max_features=4, min_samples_split=6, n_estimators=100; total time=   0.2s\n",
      "[CV] END max_depth=5, max_features=4, min_samples_split=6, n_estimators=100; total time=   0.2s\n",
      "[CV] END max_depth=5, max_features=4, min_samples_split=6, n_estimators=300; total time=   0.5s\n",
      "[CV] END max_depth=5, max_features=4, min_samples_split=6, n_estimators=300; total time=   0.5s\n",
      "[CV] END max_depth=5, max_features=4, min_samples_split=6, n_estimators=300; total time=   0.5s\n",
      "[CV] END max_depth=5, max_features=4, min_samples_split=6, n_estimators=300; total time=   0.5s\n",
      "[CV] END max_depth=5, max_features=4, min_samples_split=6, n_estimators=300; total time=   0.5s\n",
      "[CV] END max_depth=5, max_features=6, min_samples_split=2, n_estimators=50; total time=   0.1s\n",
      "[CV] END max_depth=5, max_features=6, min_samples_split=2, n_estimators=50; total time=   0.1s\n",
      "[CV] END max_depth=5, max_features=6, min_samples_split=2, n_estimators=50; total time=   0.1s\n",
      "[CV] END max_depth=5, max_features=6, min_samples_split=2, n_estimators=50; total time=   0.1s\n",
      "[CV] END max_depth=5, max_features=6, min_samples_split=2, n_estimators=50; total time=   0.1s\n",
      "[CV] END max_depth=5, max_features=6, min_samples_split=2, n_estimators=100; total time=   0.2s\n",
      "[CV] END max_depth=5, max_features=6, min_samples_split=2, n_estimators=100; total time=   0.2s\n",
      "[CV] END max_depth=5, max_features=6, min_samples_split=2, n_estimators=100; total time=   0.2s\n",
      "[CV] END max_depth=5, max_features=6, min_samples_split=2, n_estimators=100; total time=   0.2s\n",
      "[CV] END max_depth=5, max_features=6, min_samples_split=2, n_estimators=100; total time=   0.2s\n",
      "[CV] END max_depth=5, max_features=6, min_samples_split=2, n_estimators=300; total time=   0.6s\n",
      "[CV] END max_depth=5, max_features=6, min_samples_split=2, n_estimators=300; total time=   0.5s\n",
      "[CV] END max_depth=5, max_features=6, min_samples_split=2, n_estimators=300; total time=   0.5s\n",
      "[CV] END max_depth=5, max_features=6, min_samples_split=2, n_estimators=300; total time=   0.5s\n",
      "[CV] END max_depth=5, max_features=6, min_samples_split=2, n_estimators=300; total time=   0.5s\n",
      "[CV] END max_depth=5, max_features=6, min_samples_split=4, n_estimators=50; total time=   0.1s\n",
      "[CV] END max_depth=5, max_features=6, min_samples_split=4, n_estimators=50; total time=   0.1s\n",
      "[CV] END max_depth=5, max_features=6, min_samples_split=4, n_estimators=50; total time=   0.1s\n",
      "[CV] END max_depth=5, max_features=6, min_samples_split=4, n_estimators=50; total time=   0.1s\n",
      "[CV] END max_depth=5, max_features=6, min_samples_split=4, n_estimators=50; total time=   0.1s\n",
      "[CV] END max_depth=5, max_features=6, min_samples_split=4, n_estimators=100; total time=   0.2s\n",
      "[CV] END max_depth=5, max_features=6, min_samples_split=4, n_estimators=100; total time=   0.2s\n",
      "[CV] END max_depth=5, max_features=6, min_samples_split=4, n_estimators=100; total time=   0.2s\n",
      "[CV] END max_depth=5, max_features=6, min_samples_split=4, n_estimators=100; total time=   0.2s\n",
      "[CV] END max_depth=5, max_features=6, min_samples_split=4, n_estimators=100; total time=   0.2s\n",
      "[CV] END max_depth=5, max_features=6, min_samples_split=4, n_estimators=300; total time=   0.5s\n",
      "[CV] END max_depth=5, max_features=6, min_samples_split=4, n_estimators=300; total time=   0.6s\n",
      "[CV] END max_depth=5, max_features=6, min_samples_split=4, n_estimators=300; total time=   0.5s\n",
      "[CV] END max_depth=5, max_features=6, min_samples_split=4, n_estimators=300; total time=   0.5s\n",
      "[CV] END max_depth=5, max_features=6, min_samples_split=4, n_estimators=300; total time=   0.5s\n",
      "[CV] END max_depth=5, max_features=6, min_samples_split=6, n_estimators=50; total time=   0.1s\n",
      "[CV] END max_depth=5, max_features=6, min_samples_split=6, n_estimators=50; total time=   0.1s\n",
      "[CV] END max_depth=5, max_features=6, min_samples_split=6, n_estimators=50; total time=   0.1s\n",
      "[CV] END max_depth=5, max_features=6, min_samples_split=6, n_estimators=50; total time=   0.1s\n",
      "[CV] END max_depth=5, max_features=6, min_samples_split=6, n_estimators=50; total time=   0.1s\n",
      "[CV] END max_depth=5, max_features=6, min_samples_split=6, n_estimators=100; total time=   0.2s\n",
      "[CV] END max_depth=5, max_features=6, min_samples_split=6, n_estimators=100; total time=   0.2s\n",
      "[CV] END max_depth=5, max_features=6, min_samples_split=6, n_estimators=100; total time=   0.2s\n",
      "[CV] END max_depth=5, max_features=6, min_samples_split=6, n_estimators=100; total time=   0.2s\n",
      "[CV] END max_depth=5, max_features=6, min_samples_split=6, n_estimators=100; total time=   0.2s\n",
      "[CV] END max_depth=5, max_features=6, min_samples_split=6, n_estimators=300; total time=   0.5s\n",
      "[CV] END max_depth=5, max_features=6, min_samples_split=6, n_estimators=300; total time=   0.5s\n",
      "[CV] END max_depth=5, max_features=6, min_samples_split=6, n_estimators=300; total time=   0.5s\n",
      "[CV] END max_depth=5, max_features=6, min_samples_split=6, n_estimators=300; total time=   0.5s\n",
      "[CV] END max_depth=5, max_features=6, min_samples_split=6, n_estimators=300; total time=   0.6s\n",
      "[CV] END max_depth=5, max_features=8, min_samples_split=2, n_estimators=50; total time=   0.1s\n",
      "[CV] END max_depth=5, max_features=8, min_samples_split=2, n_estimators=50; total time=   0.1s\n",
      "[CV] END max_depth=5, max_features=8, min_samples_split=2, n_estimators=50; total time=   0.1s\n",
      "[CV] END max_depth=5, max_features=8, min_samples_split=2, n_estimators=50; total time=   0.1s\n",
      "[CV] END max_depth=5, max_features=8, min_samples_split=2, n_estimators=50; total time=   0.1s\n",
      "[CV] END max_depth=5, max_features=8, min_samples_split=2, n_estimators=100; total time=   0.2s\n",
      "[CV] END max_depth=5, max_features=8, min_samples_split=2, n_estimators=100; total time=   0.2s\n",
      "[CV] END max_depth=5, max_features=8, min_samples_split=2, n_estimators=100; total time=   0.2s\n",
      "[CV] END max_depth=5, max_features=8, min_samples_split=2, n_estimators=100; total time=   0.2s\n",
      "[CV] END max_depth=5, max_features=8, min_samples_split=2, n_estimators=100; total time=   0.2s\n",
      "[CV] END max_depth=5, max_features=8, min_samples_split=2, n_estimators=300; total time=   0.6s\n",
      "[CV] END max_depth=5, max_features=8, min_samples_split=2, n_estimators=300; total time=   0.6s\n",
      "[CV] END max_depth=5, max_features=8, min_samples_split=2, n_estimators=300; total time=   0.6s\n",
      "[CV] END max_depth=5, max_features=8, min_samples_split=2, n_estimators=300; total time=   0.7s\n",
      "[CV] END max_depth=5, max_features=8, min_samples_split=2, n_estimators=300; total time=   0.6s\n",
      "[CV] END max_depth=5, max_features=8, min_samples_split=4, n_estimators=50; total time=   0.1s\n",
      "[CV] END max_depth=5, max_features=8, min_samples_split=4, n_estimators=50; total time=   0.1s\n",
      "[CV] END max_depth=5, max_features=8, min_samples_split=4, n_estimators=50; total time=   0.1s\n",
      "[CV] END max_depth=5, max_features=8, min_samples_split=4, n_estimators=50; total time=   0.1s\n",
      "[CV] END max_depth=5, max_features=8, min_samples_split=4, n_estimators=50; total time=   0.1s\n",
      "[CV] END max_depth=5, max_features=8, min_samples_split=4, n_estimators=100; total time=   0.2s\n",
      "[CV] END max_depth=5, max_features=8, min_samples_split=4, n_estimators=100; total time=   0.2s\n",
      "[CV] END max_depth=5, max_features=8, min_samples_split=4, n_estimators=100; total time=   0.2s\n",
      "[CV] END max_depth=5, max_features=8, min_samples_split=4, n_estimators=100; total time=   0.2s\n",
      "[CV] END max_depth=5, max_features=8, min_samples_split=4, n_estimators=100; total time=   0.2s\n",
      "[CV] END max_depth=5, max_features=8, min_samples_split=4, n_estimators=300; total time=   0.6s\n",
      "[CV] END max_depth=5, max_features=8, min_samples_split=4, n_estimators=300; total time=   0.6s\n",
      "[CV] END max_depth=5, max_features=8, min_samples_split=4, n_estimators=300; total time=   0.6s\n",
      "[CV] END max_depth=5, max_features=8, min_samples_split=4, n_estimators=300; total time=   0.6s\n",
      "[CV] END max_depth=5, max_features=8, min_samples_split=4, n_estimators=300; total time=   0.6s\n",
      "[CV] END max_depth=5, max_features=8, min_samples_split=6, n_estimators=50; total time=   0.1s\n"
     ]
    },
    {
     "name": "stdout",
     "output_type": "stream",
     "text": [
      "[CV] END max_depth=5, max_features=8, min_samples_split=6, n_estimators=50; total time=   0.1s\n",
      "[CV] END max_depth=5, max_features=8, min_samples_split=6, n_estimators=50; total time=   0.1s\n",
      "[CV] END max_depth=5, max_features=8, min_samples_split=6, n_estimators=50; total time=   0.1s\n",
      "[CV] END max_depth=5, max_features=8, min_samples_split=6, n_estimators=50; total time=   0.1s\n",
      "[CV] END max_depth=5, max_features=8, min_samples_split=6, n_estimators=100; total time=   0.2s\n",
      "[CV] END max_depth=5, max_features=8, min_samples_split=6, n_estimators=100; total time=   0.2s\n",
      "[CV] END max_depth=5, max_features=8, min_samples_split=6, n_estimators=100; total time=   0.2s\n",
      "[CV] END max_depth=5, max_features=8, min_samples_split=6, n_estimators=100; total time=   0.2s\n",
      "[CV] END max_depth=5, max_features=8, min_samples_split=6, n_estimators=100; total time=   0.2s\n",
      "[CV] END max_depth=5, max_features=8, min_samples_split=6, n_estimators=300; total time=   0.6s\n",
      "[CV] END max_depth=5, max_features=8, min_samples_split=6, n_estimators=300; total time=   0.6s\n",
      "[CV] END max_depth=5, max_features=8, min_samples_split=6, n_estimators=300; total time=   0.6s\n",
      "[CV] END max_depth=5, max_features=8, min_samples_split=6, n_estimators=300; total time=   0.7s\n",
      "[CV] END max_depth=5, max_features=8, min_samples_split=6, n_estimators=300; total time=   0.6s\n",
      "[CV] END max_depth=7, max_features=2, min_samples_split=2, n_estimators=50; total time=   0.1s\n",
      "[CV] END max_depth=7, max_features=2, min_samples_split=2, n_estimators=50; total time=   0.1s\n",
      "[CV] END max_depth=7, max_features=2, min_samples_split=2, n_estimators=50; total time=   0.1s\n",
      "[CV] END max_depth=7, max_features=2, min_samples_split=2, n_estimators=50; total time=   0.1s\n",
      "[CV] END max_depth=7, max_features=2, min_samples_split=2, n_estimators=50; total time=   0.1s\n",
      "[CV] END max_depth=7, max_features=2, min_samples_split=2, n_estimators=100; total time=   0.2s\n",
      "[CV] END max_depth=7, max_features=2, min_samples_split=2, n_estimators=100; total time=   0.2s\n",
      "[CV] END max_depth=7, max_features=2, min_samples_split=2, n_estimators=100; total time=   0.2s\n",
      "[CV] END max_depth=7, max_features=2, min_samples_split=2, n_estimators=100; total time=   0.2s\n",
      "[CV] END max_depth=7, max_features=2, min_samples_split=2, n_estimators=100; total time=   0.3s\n",
      "[CV] END max_depth=7, max_features=2, min_samples_split=2, n_estimators=300; total time=   0.5s\n",
      "[CV] END max_depth=7, max_features=2, min_samples_split=2, n_estimators=300; total time=   0.5s\n",
      "[CV] END max_depth=7, max_features=2, min_samples_split=2, n_estimators=300; total time=   0.5s\n",
      "[CV] END max_depth=7, max_features=2, min_samples_split=2, n_estimators=300; total time=   0.5s\n",
      "[CV] END max_depth=7, max_features=2, min_samples_split=2, n_estimators=300; total time=   0.5s\n",
      "[CV] END max_depth=7, max_features=2, min_samples_split=4, n_estimators=50; total time=   0.1s\n",
      "[CV] END max_depth=7, max_features=2, min_samples_split=4, n_estimators=50; total time=   0.1s\n",
      "[CV] END max_depth=7, max_features=2, min_samples_split=4, n_estimators=50; total time=   0.1s\n",
      "[CV] END max_depth=7, max_features=2, min_samples_split=4, n_estimators=50; total time=   0.1s\n",
      "[CV] END max_depth=7, max_features=2, min_samples_split=4, n_estimators=50; total time=   0.1s\n",
      "[CV] END max_depth=7, max_features=2, min_samples_split=4, n_estimators=100; total time=   0.2s\n",
      "[CV] END max_depth=7, max_features=2, min_samples_split=4, n_estimators=100; total time=   0.2s\n",
      "[CV] END max_depth=7, max_features=2, min_samples_split=4, n_estimators=100; total time=   0.2s\n",
      "[CV] END max_depth=7, max_features=2, min_samples_split=4, n_estimators=100; total time=   0.2s\n",
      "[CV] END max_depth=7, max_features=2, min_samples_split=4, n_estimators=100; total time=   0.2s\n",
      "[CV] END max_depth=7, max_features=2, min_samples_split=4, n_estimators=300; total time=   0.6s\n",
      "[CV] END max_depth=7, max_features=2, min_samples_split=4, n_estimators=300; total time=   0.6s\n",
      "[CV] END max_depth=7, max_features=2, min_samples_split=4, n_estimators=300; total time=   0.5s\n",
      "[CV] END max_depth=7, max_features=2, min_samples_split=4, n_estimators=300; total time=   0.5s\n",
      "[CV] END max_depth=7, max_features=2, min_samples_split=4, n_estimators=300; total time=   0.5s\n",
      "[CV] END max_depth=7, max_features=2, min_samples_split=6, n_estimators=50; total time=   0.1s\n",
      "[CV] END max_depth=7, max_features=2, min_samples_split=6, n_estimators=50; total time=   0.1s\n",
      "[CV] END max_depth=7, max_features=2, min_samples_split=6, n_estimators=50; total time=   0.1s\n",
      "[CV] END max_depth=7, max_features=2, min_samples_split=6, n_estimators=50; total time=   0.1s\n",
      "[CV] END max_depth=7, max_features=2, min_samples_split=6, n_estimators=50; total time=   0.1s\n",
      "[CV] END max_depth=7, max_features=2, min_samples_split=6, n_estimators=100; total time=   0.2s\n",
      "[CV] END max_depth=7, max_features=2, min_samples_split=6, n_estimators=100; total time=   0.2s\n",
      "[CV] END max_depth=7, max_features=2, min_samples_split=6, n_estimators=100; total time=   0.2s\n",
      "[CV] END max_depth=7, max_features=2, min_samples_split=6, n_estimators=100; total time=   0.2s\n",
      "[CV] END max_depth=7, max_features=2, min_samples_split=6, n_estimators=100; total time=   0.2s\n",
      "[CV] END max_depth=7, max_features=2, min_samples_split=6, n_estimators=300; total time=   0.5s\n",
      "[CV] END max_depth=7, max_features=2, min_samples_split=6, n_estimators=300; total time=   0.5s\n",
      "[CV] END max_depth=7, max_features=2, min_samples_split=6, n_estimators=300; total time=   0.5s\n",
      "[CV] END max_depth=7, max_features=2, min_samples_split=6, n_estimators=300; total time=   0.6s\n",
      "[CV] END max_depth=7, max_features=2, min_samples_split=6, n_estimators=300; total time=   0.5s\n",
      "[CV] END max_depth=7, max_features=4, min_samples_split=2, n_estimators=50; total time=   0.1s\n",
      "[CV] END max_depth=7, max_features=4, min_samples_split=2, n_estimators=50; total time=   0.1s\n",
      "[CV] END max_depth=7, max_features=4, min_samples_split=2, n_estimators=50; total time=   0.1s\n",
      "[CV] END max_depth=7, max_features=4, min_samples_split=2, n_estimators=50; total time=   0.1s\n",
      "[CV] END max_depth=7, max_features=4, min_samples_split=2, n_estimators=50; total time=   0.1s\n",
      "[CV] END max_depth=7, max_features=4, min_samples_split=2, n_estimators=100; total time=   0.2s\n",
      "[CV] END max_depth=7, max_features=4, min_samples_split=2, n_estimators=100; total time=   0.2s\n",
      "[CV] END max_depth=7, max_features=4, min_samples_split=2, n_estimators=100; total time=   0.2s\n",
      "[CV] END max_depth=7, max_features=4, min_samples_split=2, n_estimators=100; total time=   0.2s\n",
      "[CV] END max_depth=7, max_features=4, min_samples_split=2, n_estimators=100; total time=   0.2s\n",
      "[CV] END max_depth=7, max_features=4, min_samples_split=2, n_estimators=300; total time=   0.5s\n",
      "[CV] END max_depth=7, max_features=4, min_samples_split=2, n_estimators=300; total time=   0.6s\n",
      "[CV] END max_depth=7, max_features=4, min_samples_split=2, n_estimators=300; total time=   0.7s\n",
      "[CV] END max_depth=7, max_features=4, min_samples_split=2, n_estimators=300; total time=   0.6s\n",
      "[CV] END max_depth=7, max_features=4, min_samples_split=2, n_estimators=300; total time=   0.5s\n",
      "[CV] END max_depth=7, max_features=4, min_samples_split=4, n_estimators=50; total time=   0.1s\n",
      "[CV] END max_depth=7, max_features=4, min_samples_split=4, n_estimators=50; total time=   0.1s\n",
      "[CV] END max_depth=7, max_features=4, min_samples_split=4, n_estimators=50; total time=   0.1s\n",
      "[CV] END max_depth=7, max_features=4, min_samples_split=4, n_estimators=50; total time=   0.1s\n",
      "[CV] END max_depth=7, max_features=4, min_samples_split=4, n_estimators=50; total time=   0.1s\n",
      "[CV] END max_depth=7, max_features=4, min_samples_split=4, n_estimators=100; total time=   0.2s\n",
      "[CV] END max_depth=7, max_features=4, min_samples_split=4, n_estimators=100; total time=   0.2s\n",
      "[CV] END max_depth=7, max_features=4, min_samples_split=4, n_estimators=100; total time=   0.2s\n",
      "[CV] END max_depth=7, max_features=4, min_samples_split=4, n_estimators=100; total time=   0.2s\n",
      "[CV] END max_depth=7, max_features=4, min_samples_split=4, n_estimators=100; total time=   0.2s\n",
      "[CV] END max_depth=7, max_features=4, min_samples_split=4, n_estimators=300; total time=   0.5s\n",
      "[CV] END max_depth=7, max_features=4, min_samples_split=4, n_estimators=300; total time=   0.5s\n"
     ]
    },
    {
     "name": "stdout",
     "output_type": "stream",
     "text": [
      "[CV] END max_depth=7, max_features=4, min_samples_split=4, n_estimators=300; total time=   0.5s\n",
      "[CV] END max_depth=7, max_features=4, min_samples_split=4, n_estimators=300; total time=   0.6s\n",
      "[CV] END max_depth=7, max_features=4, min_samples_split=4, n_estimators=300; total time=   0.6s\n",
      "[CV] END max_depth=7, max_features=4, min_samples_split=6, n_estimators=50; total time=   0.1s\n",
      "[CV] END max_depth=7, max_features=4, min_samples_split=6, n_estimators=50; total time=   0.1s\n",
      "[CV] END max_depth=7, max_features=4, min_samples_split=6, n_estimators=50; total time=   0.1s\n",
      "[CV] END max_depth=7, max_features=4, min_samples_split=6, n_estimators=50; total time=   0.1s\n",
      "[CV] END max_depth=7, max_features=4, min_samples_split=6, n_estimators=50; total time=   0.1s\n",
      "[CV] END max_depth=7, max_features=4, min_samples_split=6, n_estimators=100; total time=   0.2s\n",
      "[CV] END max_depth=7, max_features=4, min_samples_split=6, n_estimators=100; total time=   0.2s\n",
      "[CV] END max_depth=7, max_features=4, min_samples_split=6, n_estimators=100; total time=   0.2s\n",
      "[CV] END max_depth=7, max_features=4, min_samples_split=6, n_estimators=100; total time=   0.2s\n",
      "[CV] END max_depth=7, max_features=4, min_samples_split=6, n_estimators=100; total time=   0.2s\n",
      "[CV] END max_depth=7, max_features=4, min_samples_split=6, n_estimators=300; total time=   0.5s\n",
      "[CV] END max_depth=7, max_features=4, min_samples_split=6, n_estimators=300; total time=   0.5s\n",
      "[CV] END max_depth=7, max_features=4, min_samples_split=6, n_estimators=300; total time=   0.5s\n",
      "[CV] END max_depth=7, max_features=4, min_samples_split=6, n_estimators=300; total time=   0.6s\n",
      "[CV] END max_depth=7, max_features=4, min_samples_split=6, n_estimators=300; total time=   0.6s\n",
      "[CV] END max_depth=7, max_features=6, min_samples_split=2, n_estimators=50; total time=   0.1s\n",
      "[CV] END max_depth=7, max_features=6, min_samples_split=2, n_estimators=50; total time=   0.1s\n",
      "[CV] END max_depth=7, max_features=6, min_samples_split=2, n_estimators=50; total time=   0.1s\n",
      "[CV] END max_depth=7, max_features=6, min_samples_split=2, n_estimators=50; total time=   0.1s\n",
      "[CV] END max_depth=7, max_features=6, min_samples_split=2, n_estimators=50; total time=   0.1s\n",
      "[CV] END max_depth=7, max_features=6, min_samples_split=2, n_estimators=100; total time=   0.3s\n",
      "[CV] END max_depth=7, max_features=6, min_samples_split=2, n_estimators=100; total time=   0.2s\n",
      "[CV] END max_depth=7, max_features=6, min_samples_split=2, n_estimators=100; total time=   0.2s\n",
      "[CV] END max_depth=7, max_features=6, min_samples_split=2, n_estimators=100; total time=   0.2s\n",
      "[CV] END max_depth=7, max_features=6, min_samples_split=2, n_estimators=100; total time=   0.2s\n",
      "[CV] END max_depth=7, max_features=6, min_samples_split=2, n_estimators=300; total time=   0.6s\n",
      "[CV] END max_depth=7, max_features=6, min_samples_split=2, n_estimators=300; total time=   0.6s\n",
      "[CV] END max_depth=7, max_features=6, min_samples_split=2, n_estimators=300; total time=   0.6s\n",
      "[CV] END max_depth=7, max_features=6, min_samples_split=2, n_estimators=300; total time=   0.6s\n",
      "[CV] END max_depth=7, max_features=6, min_samples_split=2, n_estimators=300; total time=   0.7s\n",
      "[CV] END max_depth=7, max_features=6, min_samples_split=4, n_estimators=50; total time=   0.1s\n",
      "[CV] END max_depth=7, max_features=6, min_samples_split=4, n_estimators=50; total time=   0.1s\n",
      "[CV] END max_depth=7, max_features=6, min_samples_split=4, n_estimators=50; total time=   0.1s\n",
      "[CV] END max_depth=7, max_features=6, min_samples_split=4, n_estimators=50; total time=   0.1s\n",
      "[CV] END max_depth=7, max_features=6, min_samples_split=4, n_estimators=50; total time=   0.1s\n",
      "[CV] END max_depth=7, max_features=6, min_samples_split=4, n_estimators=100; total time=   0.2s\n",
      "[CV] END max_depth=7, max_features=6, min_samples_split=4, n_estimators=100; total time=   0.2s\n",
      "[CV] END max_depth=7, max_features=6, min_samples_split=4, n_estimators=100; total time=   0.2s\n",
      "[CV] END max_depth=7, max_features=6, min_samples_split=4, n_estimators=100; total time=   0.2s\n",
      "[CV] END max_depth=7, max_features=6, min_samples_split=4, n_estimators=100; total time=   0.2s\n",
      "[CV] END max_depth=7, max_features=6, min_samples_split=4, n_estimators=300; total time=   0.5s\n",
      "[CV] END max_depth=7, max_features=6, min_samples_split=4, n_estimators=300; total time=   0.6s\n",
      "[CV] END max_depth=7, max_features=6, min_samples_split=4, n_estimators=300; total time=   0.5s\n",
      "[CV] END max_depth=7, max_features=6, min_samples_split=4, n_estimators=300; total time=   0.6s\n",
      "[CV] END max_depth=7, max_features=6, min_samples_split=4, n_estimators=300; total time=   0.6s\n",
      "[CV] END max_depth=7, max_features=6, min_samples_split=6, n_estimators=50; total time=   0.1s\n",
      "[CV] END max_depth=7, max_features=6, min_samples_split=6, n_estimators=50; total time=   0.1s\n",
      "[CV] END max_depth=7, max_features=6, min_samples_split=6, n_estimators=50; total time=   0.1s\n",
      "[CV] END max_depth=7, max_features=6, min_samples_split=6, n_estimators=50; total time=   0.1s\n",
      "[CV] END max_depth=7, max_features=6, min_samples_split=6, n_estimators=50; total time=   0.1s\n",
      "[CV] END max_depth=7, max_features=6, min_samples_split=6, n_estimators=100; total time=   0.2s\n",
      "[CV] END max_depth=7, max_features=6, min_samples_split=6, n_estimators=100; total time=   0.2s\n",
      "[CV] END max_depth=7, max_features=6, min_samples_split=6, n_estimators=100; total time=   0.2s\n",
      "[CV] END max_depth=7, max_features=6, min_samples_split=6, n_estimators=100; total time=   0.2s\n",
      "[CV] END max_depth=7, max_features=6, min_samples_split=6, n_estimators=100; total time=   0.2s\n",
      "[CV] END max_depth=7, max_features=6, min_samples_split=6, n_estimators=300; total time=   0.6s\n",
      "[CV] END max_depth=7, max_features=6, min_samples_split=6, n_estimators=300; total time=   0.6s\n",
      "[CV] END max_depth=7, max_features=6, min_samples_split=6, n_estimators=300; total time=   0.6s\n",
      "[CV] END max_depth=7, max_features=6, min_samples_split=6, n_estimators=300; total time=   0.5s\n",
      "[CV] END max_depth=7, max_features=6, min_samples_split=6, n_estimators=300; total time=   0.5s\n",
      "[CV] END max_depth=7, max_features=8, min_samples_split=2, n_estimators=50; total time=   0.1s\n",
      "[CV] END max_depth=7, max_features=8, min_samples_split=2, n_estimators=50; total time=   0.1s\n",
      "[CV] END max_depth=7, max_features=8, min_samples_split=2, n_estimators=50; total time=   0.1s\n",
      "[CV] END max_depth=7, max_features=8, min_samples_split=2, n_estimators=50; total time=   0.1s\n",
      "[CV] END max_depth=7, max_features=8, min_samples_split=2, n_estimators=50; total time=   0.1s\n",
      "[CV] END max_depth=7, max_features=8, min_samples_split=2, n_estimators=100; total time=   0.2s\n",
      "[CV] END max_depth=7, max_features=8, min_samples_split=2, n_estimators=100; total time=   0.2s\n",
      "[CV] END max_depth=7, max_features=8, min_samples_split=2, n_estimators=100; total time=   0.2s\n",
      "[CV] END max_depth=7, max_features=8, min_samples_split=2, n_estimators=100; total time=   0.2s\n",
      "[CV] END max_depth=7, max_features=8, min_samples_split=2, n_estimators=100; total time=   0.2s\n",
      "[CV] END max_depth=7, max_features=8, min_samples_split=2, n_estimators=300; total time=   0.5s\n",
      "[CV] END max_depth=7, max_features=8, min_samples_split=2, n_estimators=300; total time=   0.5s\n",
      "[CV] END max_depth=7, max_features=8, min_samples_split=2, n_estimators=300; total time=   0.6s\n",
      "[CV] END max_depth=7, max_features=8, min_samples_split=2, n_estimators=300; total time=   0.6s\n",
      "[CV] END max_depth=7, max_features=8, min_samples_split=2, n_estimators=300; total time=   0.6s\n",
      "[CV] END max_depth=7, max_features=8, min_samples_split=4, n_estimators=50; total time=   0.1s\n",
      "[CV] END max_depth=7, max_features=8, min_samples_split=4, n_estimators=50; total time=   0.1s\n",
      "[CV] END max_depth=7, max_features=8, min_samples_split=4, n_estimators=50; total time=   0.1s\n",
      "[CV] END max_depth=7, max_features=8, min_samples_split=4, n_estimators=50; total time=   0.1s\n",
      "[CV] END max_depth=7, max_features=8, min_samples_split=4, n_estimators=50; total time=   0.1s\n",
      "[CV] END max_depth=7, max_features=8, min_samples_split=4, n_estimators=100; total time=   0.2s\n",
      "[CV] END max_depth=7, max_features=8, min_samples_split=4, n_estimators=100; total time=   0.2s\n",
      "[CV] END max_depth=7, max_features=8, min_samples_split=4, n_estimators=100; total time=   0.2s\n",
      "[CV] END max_depth=7, max_features=8, min_samples_split=4, n_estimators=100; total time=   0.2s\n"
     ]
    },
    {
     "name": "stdout",
     "output_type": "stream",
     "text": [
      "[CV] END max_depth=7, max_features=8, min_samples_split=4, n_estimators=100; total time=   0.2s\n",
      "[CV] END max_depth=7, max_features=8, min_samples_split=4, n_estimators=300; total time=   0.5s\n",
      "[CV] END max_depth=7, max_features=8, min_samples_split=4, n_estimators=300; total time=   0.6s\n",
      "[CV] END max_depth=7, max_features=8, min_samples_split=4, n_estimators=300; total time=   0.6s\n",
      "[CV] END max_depth=7, max_features=8, min_samples_split=4, n_estimators=300; total time=   0.6s\n",
      "[CV] END max_depth=7, max_features=8, min_samples_split=4, n_estimators=300; total time=   0.5s\n",
      "[CV] END max_depth=7, max_features=8, min_samples_split=6, n_estimators=50; total time=   0.1s\n",
      "[CV] END max_depth=7, max_features=8, min_samples_split=6, n_estimators=50; total time=   0.1s\n",
      "[CV] END max_depth=7, max_features=8, min_samples_split=6, n_estimators=50; total time=   0.1s\n",
      "[CV] END max_depth=7, max_features=8, min_samples_split=6, n_estimators=50; total time=   0.1s\n",
      "[CV] END max_depth=7, max_features=8, min_samples_split=6, n_estimators=50; total time=   0.1s\n",
      "[CV] END max_depth=7, max_features=8, min_samples_split=6, n_estimators=100; total time=   0.2s\n",
      "[CV] END max_depth=7, max_features=8, min_samples_split=6, n_estimators=100; total time=   0.2s\n",
      "[CV] END max_depth=7, max_features=8, min_samples_split=6, n_estimators=100; total time=   0.2s\n",
      "[CV] END max_depth=7, max_features=8, min_samples_split=6, n_estimators=100; total time=   0.2s\n",
      "[CV] END max_depth=7, max_features=8, min_samples_split=6, n_estimators=100; total time=   0.2s\n",
      "[CV] END max_depth=7, max_features=8, min_samples_split=6, n_estimators=300; total time=   0.6s\n",
      "[CV] END max_depth=7, max_features=8, min_samples_split=6, n_estimators=300; total time=   0.5s\n",
      "[CV] END max_depth=7, max_features=8, min_samples_split=6, n_estimators=300; total time=   0.6s\n",
      "[CV] END max_depth=7, max_features=8, min_samples_split=6, n_estimators=300; total time=   0.7s\n",
      "[CV] END max_depth=7, max_features=8, min_samples_split=6, n_estimators=300; total time=   0.6s\n"
     ]
    }
   ],
   "source": [
    "rf_cv_model = GridSearchCV(rf, rf_params, cv = 5, n_jobs = -1, verbose = 2).fit(X_train, y_train)"
   ]
  },
  {
   "cell_type": "code",
   "execution_count": 89,
   "metadata": {},
   "outputs": [
    {
     "data": {
      "text/plain": [
       "{'max_depth': 3, 'max_features': 2, 'min_samples_split': 2, 'n_estimators': 50}"
      ]
     },
     "execution_count": 89,
     "metadata": {},
     "output_type": "execute_result"
    }
   ],
   "source": [
    "rf_cv_model.best_params_"
   ]
  },
  {
   "cell_type": "code",
   "execution_count": 99,
   "metadata": {},
   "outputs": [],
   "source": [
    "rf_tuned = RandomForestClassifier(max_depth = 7,\n",
    "                                  max_features = 8,\n",
    "                                  min_samples_split = 2,\n",
    "                                  n_estimators = 100).fit(X_train, y_train)"
   ]
  },
  {
   "cell_type": "code",
   "execution_count": 100,
   "metadata": {},
   "outputs": [],
   "source": [
    "y_pred = rf_tuned.predict(X_test)"
   ]
  },
  {
   "cell_type": "markdown",
   "metadata": {},
   "source": [
    "### GridsearchCV sonucunda, sınıflandırma performansı yükseldi ve 0.99, 0.96 elde edildi."
   ]
  },
  {
   "cell_type": "code",
   "execution_count": 101,
   "metadata": {},
   "outputs": [
    {
     "name": "stdout",
     "output_type": "stream",
     "text": [
      "[[247   7]\n",
      " [  0  76]]\n"
     ]
    }
   ],
   "source": [
    "print(confusion_matrix(y_test, y_pred))"
   ]
  },
  {
   "cell_type": "code",
   "execution_count": 102,
   "metadata": {
    "scrolled": false
   },
   "outputs": [
    {
     "name": "stdout",
     "output_type": "stream",
     "text": [
      "              precision    recall  f1-score   support\n",
      "\n",
      "        evet       1.00      0.97      0.99       254\n",
      "       hayır       0.92      1.00      0.96        76\n",
      "\n",
      "    accuracy                           0.98       330\n",
      "   macro avg       0.96      0.99      0.97       330\n",
      "weighted avg       0.98      0.98      0.98       330\n",
      "\n"
     ]
    }
   ],
   "source": [
    "print(classification_report(y_test, y_pred))"
   ]
  },
  {
   "cell_type": "code",
   "execution_count": 103,
   "metadata": {},
   "outputs": [],
   "source": [
    "rf_tuned_f1_hayır = f1_score(y_test, y_pred, pos_label='hayır')"
   ]
  },
  {
   "cell_type": "code",
   "execution_count": 104,
   "metadata": {},
   "outputs": [],
   "source": [
    "rf_tuned_f1_evet = f1_score(y_test, y_pred, pos_label='evet')"
   ]
  },
  {
   "cell_type": "markdown",
   "metadata": {},
   "source": [
    "## XGboost (Boosting)"
   ]
  },
  {
   "cell_type": "markdown",
   "metadata": {},
   "source": [
    "### XGBoost boosting ensemble methodudur. Burda diğer parametrelerden farklı olarak learning_rate önemlidir. Çünkü karar ağaçları sıralıdır ve bir ağaçtan elde edilen öğrenim diğer ağaca aktarılmaktadır."
   ]
  },
  {
   "cell_type": "code",
   "execution_count": 113,
   "metadata": {},
   "outputs": [],
   "source": [
    "X = df.drop('Kart', axis = 1)\n",
    "y = df['Kart']"
   ]
  },
  {
   "cell_type": "code",
   "execution_count": 114,
   "metadata": {},
   "outputs": [],
   "source": [
    "X = pd.get_dummies(X, drop_first=True)"
   ]
  },
  {
   "cell_type": "code",
   "execution_count": 115,
   "metadata": {},
   "outputs": [],
   "source": [
    "X_train, X_test, y_train, y_test = train_test_split(X, y, test_size=0.25, random_state=42)"
   ]
  },
  {
   "cell_type": "code",
   "execution_count": 108,
   "metadata": {},
   "outputs": [],
   "source": [
    "from xgboost import XGBClassifier"
   ]
  },
  {
   "cell_type": "markdown",
   "metadata": {},
   "source": [
    "### Modelimizi çağırıp default değerlerle fit ve train ederek tahminliyoruz."
   ]
  },
  {
   "cell_type": "code",
   "execution_count": 109,
   "metadata": {},
   "outputs": [],
   "source": [
    "xgb_model = XGBClassifier().fit(X_train, y_train)"
   ]
  },
  {
   "cell_type": "code",
   "execution_count": 110,
   "metadata": {},
   "outputs": [],
   "source": [
    "y_pred = xgb_model.predict(X_test)"
   ]
  },
  {
   "cell_type": "code",
   "execution_count": 111,
   "metadata": {},
   "outputs": [
    {
     "name": "stdout",
     "output_type": "stream",
     "text": [
      "[[248   6]\n",
      " [  1  75]]\n"
     ]
    }
   ],
   "source": [
    "print(confusion_matrix(y_test, y_pred))"
   ]
  },
  {
   "cell_type": "code",
   "execution_count": 112,
   "metadata": {
    "scrolled": true
   },
   "outputs": [
    {
     "name": "stdout",
     "output_type": "stream",
     "text": [
      "              precision    recall  f1-score   support\n",
      "\n",
      "        evet       1.00      0.98      0.99       254\n",
      "       hayır       0.93      0.99      0.96        76\n",
      "\n",
      "    accuracy                           0.98       330\n",
      "   macro avg       0.96      0.98      0.97       330\n",
      "weighted avg       0.98      0.98      0.98       330\n",
      "\n"
     ]
    }
   ],
   "source": [
    "print(classification_report(y_test, y_pred))"
   ]
  },
  {
   "cell_type": "markdown",
   "metadata": {},
   "source": [
    "### En iyi sonuç veren parametreleri bulmak için Gridsearch CV uyguluyoruz."
   ]
  },
  {
   "cell_type": "code",
   "execution_count": 116,
   "metadata": {},
   "outputs": [],
   "source": [
    "xgb = XGBClassifier()"
   ]
  },
  {
   "cell_type": "code",
   "execution_count": 117,
   "metadata": {},
   "outputs": [],
   "source": [
    "xgb_params = {\"n_estimators\": [50, 100, 300],\n",
    "             \"max_depth\":[3,5,7],\n",
    "             \"learning_rate\":[0.1,0.01,0.3]}"
   ]
  },
  {
   "cell_type": "code",
   "execution_count": 118,
   "metadata": {
    "scrolled": true
   },
   "outputs": [
    {
     "name": "stdout",
     "output_type": "stream",
     "text": [
      "Fitting 3 folds for each of 27 candidates, totalling 81 fits\n",
      "[CV] END ....learning_rate=0.1, max_depth=3, n_estimators=50; total time=   0.0s\n",
      "[CV] END ....learning_rate=0.1, max_depth=3, n_estimators=50; total time=   0.0s\n",
      "[CV] END ....learning_rate=0.1, max_depth=3, n_estimators=50; total time=   0.0s\n",
      "[CV] END ...learning_rate=0.1, max_depth=3, n_estimators=100; total time=   0.0s\n",
      "[CV] END ...learning_rate=0.1, max_depth=3, n_estimators=100; total time=   0.0s\n",
      "[CV] END ...learning_rate=0.1, max_depth=3, n_estimators=100; total time=   0.0s\n",
      "[CV] END ...learning_rate=0.1, max_depth=3, n_estimators=300; total time=   0.1s\n",
      "[CV] END ...learning_rate=0.1, max_depth=3, n_estimators=300; total time=   0.1s\n",
      "[CV] END ...learning_rate=0.1, max_depth=3, n_estimators=300; total time=   0.0s\n",
      "[CV] END ....learning_rate=0.1, max_depth=5, n_estimators=50; total time=   0.0s\n",
      "[CV] END ....learning_rate=0.1, max_depth=5, n_estimators=50; total time=   0.0s\n",
      "[CV] END ....learning_rate=0.1, max_depth=5, n_estimators=50; total time=   0.0s\n",
      "[CV] END ...learning_rate=0.1, max_depth=5, n_estimators=100; total time=   0.0s\n",
      "[CV] END ...learning_rate=0.1, max_depth=5, n_estimators=100; total time=   0.0s\n",
      "[CV] END ...learning_rate=0.1, max_depth=5, n_estimators=100; total time=   0.0s\n",
      "[CV] END ...learning_rate=0.1, max_depth=5, n_estimators=300; total time=   0.0s\n",
      "[CV] END ...learning_rate=0.1, max_depth=5, n_estimators=300; total time=   0.1s\n",
      "[CV] END ...learning_rate=0.1, max_depth=5, n_estimators=300; total time=   0.1s\n",
      "[CV] END ....learning_rate=0.1, max_depth=7, n_estimators=50; total time=   0.0s\n",
      "[CV] END ....learning_rate=0.1, max_depth=7, n_estimators=50; total time=   0.0s\n",
      "[CV] END ....learning_rate=0.1, max_depth=7, n_estimators=50; total time=   0.0s\n",
      "[CV] END ...learning_rate=0.1, max_depth=7, n_estimators=100; total time=   0.1s\n",
      "[CV] END ...learning_rate=0.1, max_depth=7, n_estimators=100; total time=   0.0s\n",
      "[CV] END ...learning_rate=0.1, max_depth=7, n_estimators=100; total time=   0.0s\n",
      "[CV] END ...learning_rate=0.1, max_depth=7, n_estimators=300; total time=   0.0s\n",
      "[CV] END ...learning_rate=0.1, max_depth=7, n_estimators=300; total time=   0.1s\n",
      "[CV] END ...learning_rate=0.1, max_depth=7, n_estimators=300; total time=   0.1s\n",
      "[CV] END ...learning_rate=0.01, max_depth=3, n_estimators=50; total time=   0.0s\n",
      "[CV] END ...learning_rate=0.01, max_depth=3, n_estimators=50; total time=   0.0s\n",
      "[CV] END ...learning_rate=0.01, max_depth=3, n_estimators=50; total time=   0.0s\n",
      "[CV] END ..learning_rate=0.01, max_depth=3, n_estimators=100; total time=   0.0s\n",
      "[CV] END ..learning_rate=0.01, max_depth=3, n_estimators=100; total time=   0.0s\n",
      "[CV] END ..learning_rate=0.01, max_depth=3, n_estimators=100; total time=   0.0s\n",
      "[CV] END ..learning_rate=0.01, max_depth=3, n_estimators=300; total time=   0.1s\n",
      "[CV] END ..learning_rate=0.01, max_depth=3, n_estimators=300; total time=   0.1s\n",
      "[CV] END ..learning_rate=0.01, max_depth=3, n_estimators=300; total time=   0.0s\n",
      "[CV] END ...learning_rate=0.01, max_depth=5, n_estimators=50; total time=   0.0s\n",
      "[CV] END ...learning_rate=0.01, max_depth=5, n_estimators=50; total time=   0.0s\n",
      "[CV] END ...learning_rate=0.01, max_depth=5, n_estimators=50; total time=   0.0s\n",
      "[CV] END ..learning_rate=0.01, max_depth=5, n_estimators=100; total time=   0.0s\n",
      "[CV] END ..learning_rate=0.01, max_depth=5, n_estimators=100; total time=   0.0s\n",
      "[CV] END ..learning_rate=0.01, max_depth=5, n_estimators=100; total time=   0.0s\n",
      "[CV] END ..learning_rate=0.01, max_depth=5, n_estimators=300; total time=   0.1s\n",
      "[CV] END ..learning_rate=0.01, max_depth=5, n_estimators=300; total time=   0.1s\n",
      "[CV] END ..learning_rate=0.01, max_depth=5, n_estimators=300; total time=   0.1s\n",
      "[CV] END ...learning_rate=0.01, max_depth=7, n_estimators=50; total time=   0.0s\n",
      "[CV] END ...learning_rate=0.01, max_depth=7, n_estimators=50; total time=   0.0s\n",
      "[CV] END ...learning_rate=0.01, max_depth=7, n_estimators=50; total time=   0.0s\n",
      "[CV] END ..learning_rate=0.01, max_depth=7, n_estimators=100; total time=   0.0s\n",
      "[CV] END ..learning_rate=0.01, max_depth=7, n_estimators=100; total time=   0.0s\n",
      "[CV] END ..learning_rate=0.01, max_depth=7, n_estimators=100; total time=   0.0s\n",
      "[CV] END ..learning_rate=0.01, max_depth=7, n_estimators=300; total time=   0.1s\n",
      "[CV] END ..learning_rate=0.01, max_depth=7, n_estimators=300; total time=   0.1s\n",
      "[CV] END ..learning_rate=0.01, max_depth=7, n_estimators=300; total time=   0.1s\n",
      "[CV] END ....learning_rate=0.3, max_depth=3, n_estimators=50; total time=   0.0s\n",
      "[CV] END ....learning_rate=0.3, max_depth=3, n_estimators=50; total time=   0.0s\n",
      "[CV] END ....learning_rate=0.3, max_depth=3, n_estimators=50; total time=   0.0s\n",
      "[CV] END ...learning_rate=0.3, max_depth=3, n_estimators=100; total time=   0.0s\n",
      "[CV] END ...learning_rate=0.3, max_depth=3, n_estimators=100; total time=   0.0s\n",
      "[CV] END ...learning_rate=0.3, max_depth=3, n_estimators=100; total time=   0.0s\n",
      "[CV] END ...learning_rate=0.3, max_depth=3, n_estimators=300; total time=   0.0s\n",
      "[CV] END ...learning_rate=0.3, max_depth=3, n_estimators=300; total time=   0.1s\n",
      "[CV] END ...learning_rate=0.3, max_depth=3, n_estimators=300; total time=   0.1s\n",
      "[CV] END ....learning_rate=0.3, max_depth=5, n_estimators=50; total time=   0.0s\n",
      "[CV] END ....learning_rate=0.3, max_depth=5, n_estimators=50; total time=   0.0s\n",
      "[CV] END ....learning_rate=0.3, max_depth=5, n_estimators=50; total time=   0.0s\n",
      "[CV] END ...learning_rate=0.3, max_depth=5, n_estimators=100; total time=   0.0s\n",
      "[CV] END ...learning_rate=0.3, max_depth=5, n_estimators=100; total time=   0.0s\n",
      "[CV] END ...learning_rate=0.3, max_depth=5, n_estimators=100; total time=   0.0s\n",
      "[CV] END ...learning_rate=0.3, max_depth=5, n_estimators=300; total time=   0.1s\n",
      "[CV] END ...learning_rate=0.3, max_depth=5, n_estimators=300; total time=   0.1s\n",
      "[CV] END ...learning_rate=0.3, max_depth=5, n_estimators=300; total time=   0.1s\n",
      "[CV] END ....learning_rate=0.3, max_depth=7, n_estimators=50; total time=   0.0s\n",
      "[CV] END ....learning_rate=0.3, max_depth=7, n_estimators=50; total time=   0.0s\n",
      "[CV] END ....learning_rate=0.3, max_depth=7, n_estimators=50; total time=   0.0s\n",
      "[CV] END ...learning_rate=0.3, max_depth=7, n_estimators=100; total time=   0.0s\n",
      "[CV] END ...learning_rate=0.3, max_depth=7, n_estimators=100; total time=   0.0s\n",
      "[CV] END ...learning_rate=0.3, max_depth=7, n_estimators=100; total time=   0.0s\n",
      "[CV] END ...learning_rate=0.3, max_depth=7, n_estimators=300; total time=   0.1s\n",
      "[CV] END ...learning_rate=0.3, max_depth=7, n_estimators=300; total time=   0.1s\n",
      "[CV] END ...learning_rate=0.3, max_depth=7, n_estimators=300; total time=   0.1s\n"
     ]
    }
   ],
   "source": [
    "xgb_cv_model = GridSearchCV(xgb, xgb_params, cv = 3, n_jobs = -1, verbose = 2).fit(X_train, y_train)"
   ]
  },
  {
   "cell_type": "code",
   "execution_count": 119,
   "metadata": {},
   "outputs": [
    {
     "data": {
      "text/plain": [
       "{'learning_rate': 0.1, 'max_depth': 3, 'n_estimators': 50}"
      ]
     },
     "execution_count": 119,
     "metadata": {},
     "output_type": "execute_result"
    }
   ],
   "source": [
    "xgb_cv_model.best_params_"
   ]
  },
  {
   "cell_type": "code",
   "execution_count": 121,
   "metadata": {},
   "outputs": [],
   "source": [
    "xgb_tuned = XGBClassifier(learning_rate= 0.1,\n",
    "                                max_depth= 3,\n",
    "                                n_estimators= 50).fit(X_train, y_train)"
   ]
  },
  {
   "cell_type": "code",
   "execution_count": 122,
   "metadata": {},
   "outputs": [],
   "source": [
    "y_pred = xgb_tuned.predict(X_test)"
   ]
  },
  {
   "cell_type": "markdown",
   "metadata": {},
   "source": [
    "### GridsearchCV ile daha iyi sonuç elde edildi. 0.99 ve 0.96"
   ]
  },
  {
   "cell_type": "code",
   "execution_count": 123,
   "metadata": {},
   "outputs": [
    {
     "name": "stdout",
     "output_type": "stream",
     "text": [
      "[[247   7]\n",
      " [  0  76]]\n"
     ]
    }
   ],
   "source": [
    "print(confusion_matrix(y_test, y_pred))"
   ]
  },
  {
   "cell_type": "code",
   "execution_count": 124,
   "metadata": {},
   "outputs": [
    {
     "name": "stdout",
     "output_type": "stream",
     "text": [
      "              precision    recall  f1-score   support\n",
      "\n",
      "        evet       1.00      0.97      0.99       254\n",
      "       hayır       0.92      1.00      0.96        76\n",
      "\n",
      "    accuracy                           0.98       330\n",
      "   macro avg       0.96      0.99      0.97       330\n",
      "weighted avg       0.98      0.98      0.98       330\n",
      "\n"
     ]
    }
   ],
   "source": [
    "print(classification_report(y_test, y_pred))"
   ]
  },
  {
   "cell_type": "code",
   "execution_count": 125,
   "metadata": {},
   "outputs": [],
   "source": [
    "xgb_tuned_f1_hayır = f1_score(y_test, y_pred, pos_label='hayır')"
   ]
  },
  {
   "cell_type": "code",
   "execution_count": 126,
   "metadata": {},
   "outputs": [],
   "source": [
    "xgb_tuned_f1_evet = f1_score(y_test, y_pred, pos_label='evet')"
   ]
  },
  {
   "cell_type": "markdown",
   "metadata": {},
   "source": [
    "# Modellerin Karşılaştırılması"
   ]
  },
  {
   "cell_type": "code",
   "execution_count": 127,
   "metadata": {},
   "outputs": [
    {
     "data": {
      "text/plain": [
       "(0.0, 0.99)"
      ]
     },
     "execution_count": 127,
     "metadata": {},
     "output_type": "execute_result"
    },
    {
     "data": {
      "image/png": "[encoded data removed]",
      "text/plain": [
       "<Figure size 720x720 with 1 Axes>"
      ]
     },
     "metadata": {},
     "output_type": "display_data"
    }
   ],
   "source": [
    "sns.set_style('darkgrid')\n",
    "compare = pd.DataFrame({\"Model\": [\"KNN\", \"SVM\", \"DT\", \"RF\",\"XGBoost\"],\n",
    "                        \"F1 Score Hayır\": [knn_f1_hayır, svm_f1_hayır, dt_tuned_f1_hayır, rf_tuned_f1_hayır, xgb_tuned_f1_hayır]})\n",
    "compare = compare.sort_values(by=\"F1 Score Hayır\", ascending=True)\n",
    "plt.figure(figsize=(10,10))\n",
    "ax = sns.barplot(x=\"F1 Score Hayır\", y=\"Model\", data=compare, palette=\"Blues_d\")\n",
    "plt.yticks(size = 14)\n",
    "plt.xticks(size = 14)\n",
    "plt.title(\"F1 Score Hayır of Different Models\", size=14)\n",
    "ax.set_xlim(.0, .99)"
   ]
  },
  {
   "cell_type": "code",
   "execution_count": 138,
   "metadata": {
    "scrolled": false
   },
   "outputs": [
    {
     "data": {
      "text/plain": [
       "(0.0, 0.99)"
      ]
     },
     "execution_count": 138,
     "metadata": {},
     "output_type": "execute_result"
    },
    {
     "data": {
      "image/png": "[encoded data removed]",
      "text/plain": [
       "<Figure size 720x720 with 1 Axes>"
      ]
     },
     "metadata": {},
     "output_type": "display_data"
    }
   ],
   "source": [
    "sns.set_style('darkgrid')\n",
    "compare = pd.DataFrame({\"Model\": [\"KNN\", \"SVM\", \"DT\", \"RF\",\"XGBoost\"],\n",
    "                        \"F1 Score Evet\": [knn_f1_evet, svm_f1_evet, dt_tuned_f1_evet, rf_tuned_f1_evet, xgb_tuned_f1_evet]})\n",
    "compare = compare.sort_values(by=\"F1 Score Evet\", ascending=True)\n",
    "plt.figure(figsize=(10,10))\n",
    "ax = sns.barplot(x=\"F1 Score Evet\", y=\"Model\", data=compare, palette=\"Blues_d\")\n",
    "plt.yticks(size = 14)\n",
    "plt.xticks(size = 14)\n",
    "plt.title(\"F1 Score Evet of Different Models\", size=14)\n",
    "ax.set_xlim(.0, .99)"
   ]
  },
  {
   "cell_type": "markdown",
   "metadata": {},
   "source": [
    "### Uyguladığımız her algoritmadan sonra GridsearchCV ile parametre ayarlaması yaparak bize en iyi performansı verecek parametreleri elde ettik, optimizasyon sürecini işlettik.\n",
    "\n",
    "### Grafikten görüldüğü üzere hem 'Hayır' hem de 'Evet' tahmini iyi sonuç/performans sırasıyla XGBoost, RF, DT, SVM ve KNN şeklinde gidiyor.\n",
    "\n",
    "### Sadece KNN f1_score'lar olarak gözle görlür şekilde düşük performans verdi.\n",
    "\n",
    "### XGBoost 'Evet' için 0.99, 'Hayır' için 0.96 f1_score üretti. Data'nın imbalanced durumu (çok düşük sayıda row olduğu için) problem yaratmadı. "
   ]
  }
 ],
 "metadata": {
  "kernelspec": {
   "display_name": "Python 3",
   "language": "python",
   "name": "python3"
  },
  "language_info": {
   "codemirror_mode": {
    "name": "ipython",
    "version": 3
   },
   "file_extension": ".py",
   "mimetype": "text/x-python",
   "name": "python",
   "nbconvert_exporter": "python",
   "pygments_lexer": "ipython3",
   "version": "3.7.3"
  }
 },
 "nbformat": 4,
 "nbformat_minor": 2
}

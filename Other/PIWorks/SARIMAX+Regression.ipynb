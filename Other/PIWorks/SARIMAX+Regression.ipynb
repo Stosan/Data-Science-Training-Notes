{
 "cells": [
  {
   "cell_type": "code",
   "execution_count": 1,
   "metadata": {},
   "outputs": [
    {
     "name": "stderr",
     "output_type": "stream",
     "text": [
      "/home/navarra/snap/jupyter/common/lib/python3.7/site-packages/joblib/_multiprocessing_helpers.py:45: UserWarning: [Errno 13] Permission denied.  joblib will operate in serial mode\n",
      "  warnings.warn('%s.  joblib will operate in serial mode' % (e,))\n"
     ]
    }
   ],
   "source": [
    "import pandas as pd\n",
    "import matplotlib.pyplot as plt\n",
    "import seaborn as sns\n",
    "import numpy as np\n",
    "import statsmodels.api as sm\n",
    "from sklearn import pipeline, linear_model, preprocessing, model_selection, metrics"
   ]
  },
  {
   "cell_type": "code",
   "execution_count": 2,
   "metadata": {},
   "outputs": [],
   "source": [
    "def predict_day(date, m_id):\n",
    "    date_start = pd.to_datetime(date.strftime('%Y-%m-%d') + ' 07:00')\n",
    "    date_end = pd.to_datetime(date.strftime('%Y-%m-%d') + ' 16:00')\n",
    "    df = pd.DataFrame(index=pd.date_range(date_start, date_end, freq='H'))\n",
    "    df['municipality_id'] = m_id\n",
    "    df['hour'] = df.index.hour\n",
    "    df['weekday'] = df.index.weekday\n",
    "    return df"
   ]
  },
  {
   "cell_type": "code",
   "execution_count": 3,
   "metadata": {},
   "outputs": [],
   "source": [
    "class Banana:\n",
    "    def __init__(self, ts_params, day_predictor):\n",
    "        self.ts_params = ts_params.copy()\n",
    "        self.day_predictor = day_predictor\n",
    "        self.tsa_models = None\n",
    "        self._municipalities = None\n",
    "        \n",
    "    def _hourly_fit(self, data, copy=True):\n",
    "        if copy:\n",
    "            data = data.copy()\n",
    "        data.timestamp = pd.to_datetime(data.timestamp)\n",
    "        data = data.groupby([pd.Grouper(key='timestamp', freq='H'), 'municipality_id'])['usage'].max()\n",
    "        data = data.reset_index()\n",
    "        hazir = data.assign(hour=lambda x: x['timestamp'].dt.hour, weekday=lambda x: x['timestamp'].dt.weekday,\n",
    "            daily_mean=lambda x: x.groupby([pd.Grouper(key='timestamp', freq='D'), 'municipality_id'])['usage'].transform('mean'),\n",
    "            ratio_to_daily=lambda x: x['usage'] / x['daily_mean'])[['municipality_id', 'hour', 'weekday', 'ratio_to_daily']]\n",
    "        \n",
    "        X, y = hazir.drop('ratio_to_daily', 1), hazir['ratio_to_daily']\n",
    "        self.day_predictor.fit(X, y)\n",
    "        del X\n",
    "        del y\n",
    "        del data\n",
    "        del hazir\n",
    "        \n",
    "    def _daily_fit(self, data, copy=True):\n",
    "        df = data\n",
    "        self._municipalities = df['municipality_id'].unique().tolist()\n",
    "        self.tsa_models = {}\n",
    "        if copy:\n",
    "            df = df.copy()\n",
    "        df['timestamp'] = pd.to_datetime(df['timestamp'])\n",
    "\n",
    "        df = df.groupby(['municipality_id', pd.Grouper(key='timestamp', freq='H')])['usage'].max()\n",
    "        df = df.sort_index()\n",
    "        for muni in self._municipalities:\n",
    "            dm = df[muni].resample('D').mean()\n",
    "            dm_filled = dm.fillna(dm.groupby([lambda x: x.month, lambda x:x.weekday]).transform('mean'))\n",
    "            self.tsa_models[muni] = sm.tsa.SARIMAX(dm_filled, **self.ts_params).fit()\n",
    "            \n",
    "    def fit(self, data, copy=True):\n",
    "        self._daily_fit(data=data, copy=copy)\n",
    "        self._hourly_fit(data=data, copy=copy)\n",
    "        return self\n",
    "    \n",
    "    def predict(self, date_start, date_end, municipality_id):\n",
    "        preds = self.tsa_models[municipality_id].predict(date_start, date_end)\n",
    "        dfs = []\n",
    "        for i, mean in zip(preds.index, preds):\n",
    "            dayframe = predict_day(i, municipality_id)\n",
    "            dayframe['ratio'] = self.day_predictor.predict(dayframe)\n",
    "            dayframe['usage'] = dayframe['ratio'] * mean\n",
    "            dayframe.drop('ratio', 1, inplace=True)\n",
    "            dfs.append(dayframe)\n",
    "        return pd.concat(dfs, axis=0)\n",
    "    \n",
    "    def __repr__(self):\n",
    "        return f\"{self.__class__.__name__}(ts_params={self.ts_params}, day_predictor={self.day_predictor})\"\n",
    "        \n",
    "    "
   ]
  },
  {
   "cell_type": "code",
   "execution_count": 4,
   "metadata": {},
   "outputs": [],
   "source": [
    "p = pipeline.Pipeline([\n",
    "    ('encode', preprocessing.OneHotEncoder()),\n",
    "    ('poly', preprocessing.PolynomialFeatures(2)),\n",
    "    ('regress', linear_model.LinearRegression())\n",
    "    ])"
   ]
  },
  {
   "cell_type": "code",
   "execution_count": 5,
   "metadata": {},
   "outputs": [],
   "source": [
    "baseline = Banana(dict(order=(1,0,0)), p)\n",
    "canavar = Banana(dict(order=(1,1,1), seasonal_order=(1,1,1,7)), p)"
   ]
  },
  {
   "cell_type": "code",
   "execution_count": 6,
   "metadata": {},
   "outputs": [],
   "source": [
    "data = pd.read_csv('municipality_bus_utilization.csv')\n",
    "data.timestamp = pd.to_datetime(data.timestamp)"
   ]
  },
  {
   "cell_type": "code",
   "execution_count": 7,
   "metadata": {},
   "outputs": [],
   "source": [
    "test_cutoff = '2017-08-05'\n",
    "data_ub = '2017-08-19'"
   ]
  },
  {
   "cell_type": "code",
   "execution_count": 8,
   "metadata": {},
   "outputs": [
    {
     "data": {
      "text/plain": [
       "Banana(ts_params={'order': (1, 0, 0)}, day_predictor=Pipeline(steps=[('encode', OneHotEncoder()), ('poly', PolynomialFeatures()),\n",
       "                ('regress', LinearRegression())]))"
      ]
     },
     "execution_count": 8,
     "metadata": {},
     "output_type": "execute_result"
    }
   ],
   "source": [
    "baseline.fit(data.loc[lambda x: x.timestamp < test_cutoff])"
   ]
  },
  {
   "cell_type": "code",
   "execution_count": 9,
   "metadata": {},
   "outputs": [
    {
     "name": "stderr",
     "output_type": "stream",
     "text": [
      "/home/navarra/snap/jupyter/common/lib/python3.7/site-packages/statsmodels/tsa/statespace/sarimax.py:965: UserWarning: Non-stationary starting autoregressive parameters found. Using zeros as starting parameters.\n",
      "  warn('Non-stationary starting autoregressive parameters'\n",
      "/home/navarra/snap/jupyter/common/lib/python3.7/site-packages/statsmodels/base/model.py:568: ConvergenceWarning: Maximum Likelihood optimization failed to converge. Check mle_retvals\n",
      "  ConvergenceWarning)\n"
     ]
    },
    {
     "data": {
      "text/plain": [
       "Banana(ts_params={'order': (1, 1, 1), 'seasonal_order': (1, 1, 1, 7)}, day_predictor=Pipeline(steps=[('encode', OneHotEncoder()), ('poly', PolynomialFeatures()),\n",
       "                ('regress', LinearRegression())]))"
      ]
     },
     "execution_count": 9,
     "metadata": {},
     "output_type": "execute_result"
    }
   ],
   "source": [
    "canavar.fit(data.loc[lambda x: x.timestamp < test_cutoff])"
   ]
  },
  {
   "cell_type": "code",
   "execution_count": 10,
   "metadata": {},
   "outputs": [],
   "source": [
    "def resample_hours(df, copy=True):\n",
    "    if copy:\n",
    "        df = df.copy()\n",
    "    df['timestamp'] = pd.to_datetime(df['timestamp'])\n",
    "\n",
    "    df = df.groupby(['municipality_id', pd.Grouper(key='timestamp', freq='H')])['usage'].max()\n",
    "    df = df.sort_index()\n",
    "    return df"
   ]
  },
  {
   "cell_type": "code",
   "execution_count": 11,
   "metadata": {},
   "outputs": [],
   "source": [
    "bp = baseline.predict(test_cutoff, data_ub, 2).assign(actuals=resample_hours(data)[2][test_cutoff:])"
   ]
  },
  {
   "cell_type": "code",
   "execution_count": 12,
   "metadata": {},
   "outputs": [],
   "source": [
    "cp = canavar.predict(test_cutoff, data_ub, 2).assign(actuals=resample_hours(data)[2][test_cutoff:])"
   ]
  },
  {
   "cell_type": "code",
   "execution_count": 13,
   "metadata": {},
   "outputs": [],
   "source": [
    "tum = cp.assign(bp=bp['usage']).dropna()"
   ]
  },
  {
   "cell_type": "code",
   "execution_count": 14,
   "metadata": {},
   "outputs": [
    {
     "name": "stdout",
     "output_type": "stream",
     "text": [
      "Vilayet 0\n",
      "Baseline RMSE: 396.3\n",
      "Gelismis RMSE: 337.97\n",
      "\n",
      "Baseline MAE: 265.28\n",
      "Gelismis MAE: 192.97\n",
      "\n",
      "Baseline MAPE: 32.58\n",
      "Gelismis MAPE: 21.55\n",
      "----------------------------------------\n",
      "Vilayet 1\n",
      "Baseline RMSE: 60.56\n",
      "Gelismis RMSE: 39.25\n",
      "\n",
      "Baseline MAE: 53.03\n",
      "Gelismis MAE: 31.91\n",
      "\n",
      "Baseline MAPE: 15.82\n",
      "Gelismis MAPE: 9.93\n",
      "----------------------------------------\n",
      "Vilayet 2\n",
      "Baseline RMSE: 80.08\n",
      "Gelismis RMSE: 73.04\n",
      "\n",
      "Baseline MAE: 63.08\n",
      "Gelismis MAE: 59.62\n",
      "\n",
      "Baseline MAPE: 13.4\n",
      "Gelismis MAPE: 11.47\n",
      "----------------------------------------\n",
      "Vilayet 3\n",
      "Baseline RMSE: 451.57\n",
      "Gelismis RMSE: 298.93\n",
      "\n",
      "Baseline MAE: 397.34\n",
      "Gelismis MAE: 175.31\n",
      "\n",
      "Baseline MAPE: 32.99\n",
      "Gelismis MAPE: 22.21\n",
      "----------------------------------------\n",
      "Vilayet 4\n",
      "Baseline RMSE: 1181.37\n",
      "Gelismis RMSE: 738.29\n",
      "\n",
      "Baseline MAE: 1033.91\n",
      "Gelismis MAE: 443.95\n",
      "\n",
      "Baseline MAPE: 38.36\n",
      "Gelismis MAPE: 25.61\n",
      "----------------------------------------\n",
      "Vilayet 5\n",
      "Baseline RMSE: 145.84\n",
      "Gelismis RMSE: 272.24\n",
      "\n",
      "Baseline MAE: 110.08\n",
      "Gelismis MAE: 226.3\n",
      "\n",
      "Baseline MAPE: 56.05\n",
      "Gelismis MAPE: 143.65\n",
      "----------------------------------------\n",
      "Vilayet 6\n",
      "Baseline RMSE: 350.31\n",
      "Gelismis RMSE: 322.85\n",
      "\n",
      "Baseline MAE: 232.34\n",
      "Gelismis MAE: 201.47\n",
      "\n",
      "Baseline MAPE: 17.92\n",
      "Gelismis MAPE: 15.69\n",
      "----------------------------------------\n",
      "Vilayet 7\n",
      "Baseline RMSE: 153.41\n",
      "Gelismis RMSE: 130.15\n",
      "\n",
      "Baseline MAE: 124.0\n",
      "Gelismis MAE: 103.2\n",
      "\n",
      "Baseline MAPE: 10.05\n",
      "Gelismis MAPE: 8.8\n",
      "----------------------------------------\n",
      "Vilayet 8\n",
      "Baseline RMSE: 263.35\n",
      "Gelismis RMSE: 202.43\n",
      "\n",
      "Baseline MAE: 227.84\n",
      "Gelismis MAE: 155.11\n",
      "\n",
      "Baseline MAPE: 20.77\n",
      "Gelismis MAPE: 17.46\n",
      "----------------------------------------\n",
      "Vilayet 9\n",
      "Baseline RMSE: 166.07\n",
      "Gelismis RMSE: 83.83\n",
      "\n",
      "Baseline MAE: 145.51\n",
      "Gelismis MAE: 66.04\n",
      "\n",
      "Baseline MAPE: 19.06\n",
      "Gelismis MAPE: 9.73\n",
      "----------------------------------------\n"
     ]
    }
   ],
   "source": [
    "for muni in range(10):\n",
    "    bp = baseline.predict(test_cutoff, data_ub, muni).assign(actuals=resample_hours(data)[muni][test_cutoff:])\n",
    "    cp = canavar.predict(test_cutoff, data_ub, muni).assign(actuals=resample_hours(data)[muni][test_cutoff:])\n",
    "    tum = cp.assign(bp=bp['usage']).dropna()\n",
    "    print('Vilayet', muni)\n",
    "    bmse = metrics.mean_squared_error(tum['actuals'], tum['bp'])**0.5\n",
    "    bmae = metrics.mean_absolute_error(tum['actuals'], tum['bp'])\n",
    "    bmape = metrics.mean_absolute_percentage_error(tum['actuals'], tum['bp']) * 100.\n",
    "    cmse = metrics.mean_squared_error(tum['actuals'], tum['usage'])**0.5\n",
    "    cmae = metrics.mean_absolute_error(tum['actuals'], tum['usage'])\n",
    "    cmape = metrics.mean_absolute_percentage_error(tum['actuals'], tum['usage']) * 100.\n",
    "    print(\"Baseline RMSE:\", bmse.round(2))\n",
    "    print(\"Gelismis RMSE:\", cmse.round(2))\n",
    "    print()\n",
    "    print(\"Baseline MAE:\", bmae.round(2))\n",
    "    print(\"Gelismis MAE:\", cmae.round(2))\n",
    "    print()\n",
    "    print(\"Baseline MAPE:\", bmape.round(2))\n",
    "    print(\"Gelismis MAPE:\", cmape.round(2))\n",
    "    print('----------------------------------------')"
   ]
  },
  {
   "cell_type": "code",
   "execution_count": null,
   "metadata": {},
   "outputs": [],
   "source": []
  }
 ],
 "metadata": {
  "kernelspec": {
   "display_name": "Python 3",
   "language": "python",
   "name": "python3"
  },
  "language_info": {
   "codemirror_mode": {
    "name": "ipython",
    "version": 3
   },
   "file_extension": ".py",
   "mimetype": "text/x-python",
   "name": "python",
   "nbconvert_exporter": "python",
   "pygments_lexer": "ipython3",
   "version": "3.7.3"
  }
 },
 "nbformat": 4,
 "nbformat_minor": 2
}

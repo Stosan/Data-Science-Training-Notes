{
 "cells": [
  {
   "cell_type": "code",
   "execution_count": 1,
   "metadata": {},
   "outputs": [],
   "source": [
    "import numpy as np\n",
    "from scipy import stats\n",
    "import math"
   ]
  },
  {
   "cell_type": "markdown",
   "metadata": {},
   "source": [
    "## 1  \n",
    " Create a Standard Normal Distribution Table using Python scipy.stats. "
   ]
  },
  {
   "cell_type": "code",
   "execution_count": 3,
   "metadata": {},
   "outputs": [],
   "source": [
    "(mu, sigma) = (0, 1)\n",
    "normDist = stats.norm(mu, sigma)"
   ]
  },
  {
   "cell_type": "code",
   "execution_count": 64,
   "metadata": {},
   "outputs": [],
   "source": [
    "z = np.round(np.linspace(0, 3, 310), 2) * -1"
   ]
  },
  {
   "cell_type": "code",
   "execution_count": 65,
   "metadata": {},
   "outputs": [],
   "source": [
    "z = list(z)"
   ]
  },
  {
   "cell_type": "code",
   "execution_count": 84,
   "metadata": {
    "scrolled": true
   },
   "outputs": [
    {
     "name": "stdout",
     "output_type": "stream",
     "text": [
      "0.5 0.496 0.492 0.488 0.484 0.4801 0.4761 0.4721 0.4681 0.4641 0.4602 \n",
      "\n",
      "0.4562 0.4522 0.4483 0.4443 0.4404 0.4364 0.4325 0.4325 0.4286 0.4247 \n",
      "\n",
      "0.4207 0.4168 0.4129 0.409 0.4052 0.4013 0.3974 0.3936 0.3897 0.3859 \n",
      "\n",
      "0.3821 0.3783 0.3745 0.3707 0.3669 0.3632 0.3594 0.3557 0.352 0.3483 \n",
      "\n",
      "0.3446 0.3409 0.3372 0.3336 0.33 0.3264 0.3228 0.3192 0.3156 0.3121 \n",
      "\n",
      "0.3085 0.3085 0.305 0.3015 0.2981 0.2946 0.2912 0.2877 0.2843 0.281 \n",
      "\n",
      "0.2776 0.2743 0.2709 0.2676 0.2643 0.2611 0.2578 0.2546 0.2514 0.2483 \n",
      "\n",
      "0.2451 0.242 0.2389 0.2358 0.2327 0.2296 0.2266 0.2236 0.2206 0.2177 \n",
      "\n",
      "0.2148 0.2119 0.209 0.2061 0.2033 0.2033 0.2005 0.1977 0.1949 0.1922 \n",
      "\n",
      "0.1894 0.1867 0.1841 0.1814 0.1788 0.1762 0.1736 0.1711 0.1685 0.166 \n",
      "\n",
      "0.1635 0.1611 0.1587 0.1562 0.1539 0.1515 0.1492 0.1469 0.1446 0.1423 \n",
      "\n",
      "0.1401 0.1379 0.1357 0.1335 0.1314 0.1292 0.1271 0.1251 0.123 0.121 \n",
      "\n",
      "0.121 0.119 0.117 0.1151 0.1131 0.1112 0.1093 0.1075 0.1056 0.1038 \n",
      "\n",
      "0.102 0.1003 0.0985 0.0968 0.0951 0.0934 0.0918 0.0901 0.0885 0.0869 \n",
      "\n",
      "0.0853 0.0838 0.0823 0.0808 0.0793 0.0778 0.0764 0.0749 0.0735 0.0721 \n",
      "\n",
      "0.0708 0.0694 0.0681 0.0668 0.0668 0.0655 0.0643 0.063 0.0618 0.0606 \n",
      "\n",
      "0.0594 0.0582 0.0571 0.0559 0.0548 0.0537 0.0526 0.0516 0.0505 0.0495 \n",
      "\n",
      "0.0485 0.0475 0.0465 0.0455 0.0446 0.0436 0.0427 0.0418 0.0409 0.0401 \n",
      "\n",
      "0.0392 0.0384 0.0375 0.0367 0.0359 0.0351 0.0344 0.0336 0.0336 0.0329 \n",
      "\n",
      "0.0322 0.0314 0.0307 0.0301 0.0294 0.0287 0.0281 0.0274 0.0268 0.0262 \n",
      "\n",
      "0.0256 0.025 0.0244 0.0239 0.0233 0.0228 0.0222 0.0217 0.0212 0.0207 \n",
      "\n",
      "0.0202 0.0197 0.0192 0.0188 0.0183 0.0179 0.0174 0.017 0.0166 0.0162 \n",
      "\n",
      "0.0158 0.0154 0.015 0.015 0.0146 0.0143 0.0139 0.0136 0.0132 0.0129 \n",
      "\n",
      "0.0125 0.0122 0.0119 0.0116 0.0113 0.011 0.0107 0.0104 0.0102 0.0099 \n",
      "\n",
      "0.0096 0.0094 0.0091 0.0089 0.0087 0.0084 0.0082 0.008 0.0078 0.0075 \n",
      "\n",
      "0.0073 0.0071 0.0069 0.0068 0.0066 0.0064 0.0062 0.0062 0.006 0.0059 \n",
      "\n",
      "0.0057 0.0055 0.0054 0.0052 0.0051 0.0049 0.0048 0.0047 0.0045 0.0044 \n",
      "\n",
      "0.0043 0.0041 0.004 0.0039 0.0038 0.0037 0.0036 0.0035 0.0034 0.0033 \n",
      "\n",
      "0.0032 0.0031 0.003 0.0029 0.0028 0.0027 0.0026 0.0026 0.0025 0.0024 \n",
      "\n",
      "0.0023 0.0023 0.0023 0.0022 0.0021 0.0021 0.002 0.0019 0.0019 0.0018 \n",
      "\n",
      "0.0018 0.0017 0.0016 0.0016 0.0015 0.0015 0.0014 0.0014 0.0013 "
     ]
    }
   ],
   "source": [
    "for(ii) in range(310):\n",
    "    a = np.round(normDist.cdf(z[ii]), 4)\n",
    "    print(a, end = ' ')\n",
    "    if ii % 10 == 0 and ii != 0:\n",
    "        print('\\n')"
   ]
  },
  {
   "cell_type": "markdown",
   "metadata": {},
   "source": [
    "## 2\n",
    "The cycle time for trucks hauling concrete to a highway construction site is uniformly distributed over the interval 50 to 70 minutes. What is the probability that the cycle time exceeds 65 minutes  if it is known that the cycle time exceeds 55 minutes?"
   ]
  },
  {
   "cell_type": "code",
   "execution_count": 85,
   "metadata": {},
   "outputs": [],
   "source": [
    "(a, b) = (50, 70)"
   ]
  },
  {
   "cell_type": "code",
   "execution_count": 86,
   "metadata": {},
   "outputs": [],
   "source": [
    "unifDist = stats.uniform(50, 70)"
   ]
  },
  {
   "cell_type": "code",
   "execution_count": 94,
   "metadata": {},
   "outputs": [],
   "source": [
    "# P(X > 65 | X > 55)"
   ]
  },
  {
   "cell_type": "code",
   "execution_count": 98,
   "metadata": {},
   "outputs": [
    {
     "data": {
      "text/plain": [
       "0.21428571428571427"
      ]
     },
     "execution_count": 98,
     "metadata": {},
     "output_type": "execute_result"
    }
   ],
   "source": [
    "unifDist.cdf(65)"
   ]
  },
  {
   "cell_type": "code",
   "execution_count": 99,
   "metadata": {},
   "outputs": [
    {
     "data": {
      "text/plain": [
       "0.07142857142857142"
      ]
     },
     "execution_count": 99,
     "metadata": {},
     "output_type": "execute_result"
    }
   ],
   "source": [
    "unifDist.cdf(55)"
   ]
  },
  {
   "cell_type": "code",
   "execution_count": 100,
   "metadata": {},
   "outputs": [
    {
     "data": {
      "text/plain": [
       "0.3333333333333333"
      ]
     },
     "execution_count": 100,
     "metadata": {},
     "output_type": "execute_result"
    }
   ],
   "source": [
    "unifDist.cdf(55) / unifDist.cdf(65)"
   ]
  },
  {
   "cell_type": "markdown",
   "metadata": {},
   "source": [
    "## 3.1\n",
    "The width of bolts of fabric is normally distributed with mean 950 mm (millimeters) and standard deviation 10 mm.\n",
    "What is the probability that a randomly chosen bolt has a width of between 947 and 958mm?"
   ]
  },
  {
   "cell_type": "code",
   "execution_count": 102,
   "metadata": {},
   "outputs": [],
   "source": [
    "(mu, sigma) = (950, 10)\n",
    "normDist = stats.norm(mu, sigma)"
   ]
  },
  {
   "cell_type": "code",
   "execution_count": 105,
   "metadata": {},
   "outputs": [
    {
     "data": {
      "text/plain": [
       "0.406056023605556"
      ]
     },
     "execution_count": 105,
     "metadata": {},
     "output_type": "execute_result"
    }
   ],
   "source": [
    "normDist.cdf(958) - normDist.cdf(947) "
   ]
  },
  {
   "cell_type": "markdown",
   "metadata": {},
   "source": [
    "## 3.2\n",
    "The width of bolts of fabric is normally distributed with mean 950 mm (millimeters) and standard deviation 10 mm.\n",
    "What is the appropriate value for C such that a randomly chosen bolt has a width less than C with probability .8531?"
   ]
  },
  {
   "cell_type": "code",
   "execution_count": 109,
   "metadata": {},
   "outputs": [
    {
     "data": {
      "text/plain": [
       "960.4982190962642"
      ]
     },
     "execution_count": 109,
     "metadata": {},
     "output_type": "execute_result"
    }
   ],
   "source": [
    "normDist.ppf(0.8531)"
   ]
  },
  {
   "cell_type": "markdown",
   "metadata": {},
   "source": [
    "## 4\n",
    "The school board administered an IQ test to 20 randomly selected teachers. They found that the average IQ score was 114 with a standard deviation of 10. Assume that the cumulative probability is 0.90. What population mean would have produced this sample result?"
   ]
  },
  {
   "cell_type": "code",
   "execution_count": 113,
   "metadata": {},
   "outputs": [],
   "source": [
    "# n = 20, df = 19, mu_sample = 114, std = 10"
   ]
  },
  {
   "cell_type": "code",
   "execution_count": 114,
   "metadata": {},
   "outputs": [
    {
     "data": {
      "text/plain": [
       "1.3277282090267986"
      ]
     },
     "execution_count": 114,
     "metadata": {},
     "output_type": "execute_result"
    }
   ],
   "source": [
    "stats.t.ppf(0.90, 19)"
   ]
  },
  {
   "cell_type": "code",
   "execution_count": 116,
   "metadata": {},
   "outputs": [
    {
     "data": {
      "text/plain": [
       "111.03110946897203"
      ]
     },
     "execution_count": 116,
     "metadata": {},
     "output_type": "execute_result"
    }
   ],
   "source": [
    "114 - (stats.t.ppf(0.90, 19) * (10/math.sqrt(20)))   # = mu_population"
   ]
  },
  {
   "cell_type": "code",
   "execution_count": 119,
   "metadata": {},
   "outputs": [
    {
     "data": {
      "text/plain": [
       "1.3277282090267963"
      ]
     },
     "execution_count": 119,
     "metadata": {},
     "output_type": "execute_result"
    }
   ],
   "source": [
    "(114 - 111.03110946897203)/(10/math.sqrt(20))"
   ]
  }
 ],
 "metadata": {
  "kernelspec": {
   "display_name": "Python 3",
   "language": "python",
   "name": "python3"
  },
  "language_info": {
   "codemirror_mode": {
    "name": "ipython",
    "version": 3
   },
   "file_extension": ".py",
   "mimetype": "text/x-python",
   "name": "python",
   "nbconvert_exporter": "python",
   "pygments_lexer": "ipython3",
   "version": "3.7.3"
  }
 },
 "nbformat": 4,
 "nbformat_minor": 2
}
